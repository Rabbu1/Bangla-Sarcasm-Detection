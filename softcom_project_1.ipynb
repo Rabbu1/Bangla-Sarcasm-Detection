{
  "nbformat": 4,
  "nbformat_minor": 0,
  "metadata": {
    "colab": {
      "provenance": [],
      "gpuType": "T4"
    },
    "kernelspec": {
      "name": "python3",
      "display_name": "Python 3"
    },
    "language_info": {
      "name": "python"
    },
    "accelerator": "GPU"
  },
  "cells": [
    {
      "cell_type": "code",
      "execution_count": 36,
      "metadata": {
        "colab": {
          "base_uri": "https://localhost:8080/"
        },
        "id": "bXIim24iteU4",
        "outputId": "c0af2b83-f4f8-4e0f-fd04-49d1bf7133f8"
      },
      "outputs": [
        {
          "output_type": "stream",
          "name": "stdout",
          "text": [
            "Drive already mounted at /content/drive; to attempt to forcibly remount, call drive.mount(\"/content/drive\", force_remount=True).\n"
          ]
        }
      ],
      "source": [
        "from google.colab import drive\n",
        "\n",
        "drive.mount('/content/drive')\n"
      ]
    },
    {
      "cell_type": "code",
      "source": [
        "import pandas as pd\n",
        "\n",
        "file_path = \"/content/drive/MyDrive/softcom_project_data/SarcasDetection.csv\"\n",
        "\n",
        "# Load the dataset\n",
        "df = pd.read_csv(file_path)\n",
        "df.head()\n"
      ],
      "metadata": {
        "colab": {
          "base_uri": "https://localhost:8080/",
          "height": 206
        },
        "id": "vk2AgujitnRm",
        "outputId": "86530458-9827-4c75-adaa-996075b075f9"
      },
      "execution_count": 3,
      "outputs": [
        {
          "output_type": "execute_result",
          "data": {
            "text/plain": [
              "   Unnamed: 0                                           Comments  Label\n",
              "0           0  আমি মনে করি যখন মেয়েরা উদ্দেশ্য অনুসারে বোবা ...    1.0\n",
              "1           1  আমি যখন কোনও গুরুত্বপূর্ণ প্রশ্ন জিজ্ঞাসা করি ...    1.0\n",
              "2           2  বাহ ... আমি দেখতে দেখতে পাচ্ছি সত্যিই দোষী দোষ...    1.0\n",
              "3           3                   হাহ, মজার বিষয়।#আনোয়েড #গ্রুআপ    1.0\n",
              "4           4         থান্ডার আমাকে 830 এ জেগে উঠলে এটি ভালবাসুন    1.0"
            ],
            "text/html": [
              "\n",
              "  <div id=\"df-1feedccc-0d17-4b2d-ae68-60f03e6dae3d\" class=\"colab-df-container\">\n",
              "    <div>\n",
              "<style scoped>\n",
              "    .dataframe tbody tr th:only-of-type {\n",
              "        vertical-align: middle;\n",
              "    }\n",
              "\n",
              "    .dataframe tbody tr th {\n",
              "        vertical-align: top;\n",
              "    }\n",
              "\n",
              "    .dataframe thead th {\n",
              "        text-align: right;\n",
              "    }\n",
              "</style>\n",
              "<table border=\"1\" class=\"dataframe\">\n",
              "  <thead>\n",
              "    <tr style=\"text-align: right;\">\n",
              "      <th></th>\n",
              "      <th>Unnamed: 0</th>\n",
              "      <th>Comments</th>\n",
              "      <th>Label</th>\n",
              "    </tr>\n",
              "  </thead>\n",
              "  <tbody>\n",
              "    <tr>\n",
              "      <th>0</th>\n",
              "      <td>0</td>\n",
              "      <td>আমি মনে করি যখন মেয়েরা উদ্দেশ্য অনুসারে বোবা ...</td>\n",
              "      <td>1.0</td>\n",
              "    </tr>\n",
              "    <tr>\n",
              "      <th>1</th>\n",
              "      <td>1</td>\n",
              "      <td>আমি যখন কোনও গুরুত্বপূর্ণ প্রশ্ন জিজ্ঞাসা করি ...</td>\n",
              "      <td>1.0</td>\n",
              "    </tr>\n",
              "    <tr>\n",
              "      <th>2</th>\n",
              "      <td>2</td>\n",
              "      <td>বাহ ... আমি দেখতে দেখতে পাচ্ছি সত্যিই দোষী দোষ...</td>\n",
              "      <td>1.0</td>\n",
              "    </tr>\n",
              "    <tr>\n",
              "      <th>3</th>\n",
              "      <td>3</td>\n",
              "      <td>হাহ, মজার বিষয়।#আনোয়েড #গ্রুআপ</td>\n",
              "      <td>1.0</td>\n",
              "    </tr>\n",
              "    <tr>\n",
              "      <th>4</th>\n",
              "      <td>4</td>\n",
              "      <td>থান্ডার আমাকে 830 এ জেগে উঠলে এটি ভালবাসুন</td>\n",
              "      <td>1.0</td>\n",
              "    </tr>\n",
              "  </tbody>\n",
              "</table>\n",
              "</div>\n",
              "    <div class=\"colab-df-buttons\">\n",
              "\n",
              "  <div class=\"colab-df-container\">\n",
              "    <button class=\"colab-df-convert\" onclick=\"convertToInteractive('df-1feedccc-0d17-4b2d-ae68-60f03e6dae3d')\"\n",
              "            title=\"Convert this dataframe to an interactive table.\"\n",
              "            style=\"display:none;\">\n",
              "\n",
              "  <svg xmlns=\"http://www.w3.org/2000/svg\" height=\"24px\" viewBox=\"0 -960 960 960\">\n",
              "    <path d=\"M120-120v-720h720v720H120Zm60-500h600v-160H180v160Zm220 220h160v-160H400v160Zm0 220h160v-160H400v160ZM180-400h160v-160H180v160Zm440 0h160v-160H620v160ZM180-180h160v-160H180v160Zm440 0h160v-160H620v160Z\"/>\n",
              "  </svg>\n",
              "    </button>\n",
              "\n",
              "  <style>\n",
              "    .colab-df-container {\n",
              "      display:flex;\n",
              "      gap: 12px;\n",
              "    }\n",
              "\n",
              "    .colab-df-convert {\n",
              "      background-color: #E8F0FE;\n",
              "      border: none;\n",
              "      border-radius: 50%;\n",
              "      cursor: pointer;\n",
              "      display: none;\n",
              "      fill: #1967D2;\n",
              "      height: 32px;\n",
              "      padding: 0 0 0 0;\n",
              "      width: 32px;\n",
              "    }\n",
              "\n",
              "    .colab-df-convert:hover {\n",
              "      background-color: #E2EBFA;\n",
              "      box-shadow: 0px 1px 2px rgba(60, 64, 67, 0.3), 0px 1px 3px 1px rgba(60, 64, 67, 0.15);\n",
              "      fill: #174EA6;\n",
              "    }\n",
              "\n",
              "    .colab-df-buttons div {\n",
              "      margin-bottom: 4px;\n",
              "    }\n",
              "\n",
              "    [theme=dark] .colab-df-convert {\n",
              "      background-color: #3B4455;\n",
              "      fill: #D2E3FC;\n",
              "    }\n",
              "\n",
              "    [theme=dark] .colab-df-convert:hover {\n",
              "      background-color: #434B5C;\n",
              "      box-shadow: 0px 1px 3px 1px rgba(0, 0, 0, 0.15);\n",
              "      filter: drop-shadow(0px 1px 2px rgba(0, 0, 0, 0.3));\n",
              "      fill: #FFFFFF;\n",
              "    }\n",
              "  </style>\n",
              "\n",
              "    <script>\n",
              "      const buttonEl =\n",
              "        document.querySelector('#df-1feedccc-0d17-4b2d-ae68-60f03e6dae3d button.colab-df-convert');\n",
              "      buttonEl.style.display =\n",
              "        google.colab.kernel.accessAllowed ? 'block' : 'none';\n",
              "\n",
              "      async function convertToInteractive(key) {\n",
              "        const element = document.querySelector('#df-1feedccc-0d17-4b2d-ae68-60f03e6dae3d');\n",
              "        const dataTable =\n",
              "          await google.colab.kernel.invokeFunction('convertToInteractive',\n",
              "                                                    [key], {});\n",
              "        if (!dataTable) return;\n",
              "\n",
              "        const docLinkHtml = 'Like what you see? Visit the ' +\n",
              "          '<a target=\"_blank\" href=https://colab.research.google.com/notebooks/data_table.ipynb>data table notebook</a>'\n",
              "          + ' to learn more about interactive tables.';\n",
              "        element.innerHTML = '';\n",
              "        dataTable['output_type'] = 'display_data';\n",
              "        await google.colab.output.renderOutput(dataTable, element);\n",
              "        const docLink = document.createElement('div');\n",
              "        docLink.innerHTML = docLinkHtml;\n",
              "        element.appendChild(docLink);\n",
              "      }\n",
              "    </script>\n",
              "  </div>\n",
              "\n",
              "\n",
              "<div id=\"df-568df2bf-0230-475d-a05e-0d29b62c241a\">\n",
              "  <button class=\"colab-df-quickchart\" onclick=\"quickchart('df-568df2bf-0230-475d-a05e-0d29b62c241a')\"\n",
              "            title=\"Suggest charts\"\n",
              "            style=\"display:none;\">\n",
              "\n",
              "<svg xmlns=\"http://www.w3.org/2000/svg\" height=\"24px\"viewBox=\"0 0 24 24\"\n",
              "     width=\"24px\">\n",
              "    <g>\n",
              "        <path d=\"M19 3H5c-1.1 0-2 .9-2 2v14c0 1.1.9 2 2 2h14c1.1 0 2-.9 2-2V5c0-1.1-.9-2-2-2zM9 17H7v-7h2v7zm4 0h-2V7h2v10zm4 0h-2v-4h2v4z\"/>\n",
              "    </g>\n",
              "</svg>\n",
              "  </button>\n",
              "\n",
              "<style>\n",
              "  .colab-df-quickchart {\n",
              "      --bg-color: #E8F0FE;\n",
              "      --fill-color: #1967D2;\n",
              "      --hover-bg-color: #E2EBFA;\n",
              "      --hover-fill-color: #174EA6;\n",
              "      --disabled-fill-color: #AAA;\n",
              "      --disabled-bg-color: #DDD;\n",
              "  }\n",
              "\n",
              "  [theme=dark] .colab-df-quickchart {\n",
              "      --bg-color: #3B4455;\n",
              "      --fill-color: #D2E3FC;\n",
              "      --hover-bg-color: #434B5C;\n",
              "      --hover-fill-color: #FFFFFF;\n",
              "      --disabled-bg-color: #3B4455;\n",
              "      --disabled-fill-color: #666;\n",
              "  }\n",
              "\n",
              "  .colab-df-quickchart {\n",
              "    background-color: var(--bg-color);\n",
              "    border: none;\n",
              "    border-radius: 50%;\n",
              "    cursor: pointer;\n",
              "    display: none;\n",
              "    fill: var(--fill-color);\n",
              "    height: 32px;\n",
              "    padding: 0;\n",
              "    width: 32px;\n",
              "  }\n",
              "\n",
              "  .colab-df-quickchart:hover {\n",
              "    background-color: var(--hover-bg-color);\n",
              "    box-shadow: 0 1px 2px rgba(60, 64, 67, 0.3), 0 1px 3px 1px rgba(60, 64, 67, 0.15);\n",
              "    fill: var(--button-hover-fill-color);\n",
              "  }\n",
              "\n",
              "  .colab-df-quickchart-complete:disabled,\n",
              "  .colab-df-quickchart-complete:disabled:hover {\n",
              "    background-color: var(--disabled-bg-color);\n",
              "    fill: var(--disabled-fill-color);\n",
              "    box-shadow: none;\n",
              "  }\n",
              "\n",
              "  .colab-df-spinner {\n",
              "    border: 2px solid var(--fill-color);\n",
              "    border-color: transparent;\n",
              "    border-bottom-color: var(--fill-color);\n",
              "    animation:\n",
              "      spin 1s steps(1) infinite;\n",
              "  }\n",
              "\n",
              "  @keyframes spin {\n",
              "    0% {\n",
              "      border-color: transparent;\n",
              "      border-bottom-color: var(--fill-color);\n",
              "      border-left-color: var(--fill-color);\n",
              "    }\n",
              "    20% {\n",
              "      border-color: transparent;\n",
              "      border-left-color: var(--fill-color);\n",
              "      border-top-color: var(--fill-color);\n",
              "    }\n",
              "    30% {\n",
              "      border-color: transparent;\n",
              "      border-left-color: var(--fill-color);\n",
              "      border-top-color: var(--fill-color);\n",
              "      border-right-color: var(--fill-color);\n",
              "    }\n",
              "    40% {\n",
              "      border-color: transparent;\n",
              "      border-right-color: var(--fill-color);\n",
              "      border-top-color: var(--fill-color);\n",
              "    }\n",
              "    60% {\n",
              "      border-color: transparent;\n",
              "      border-right-color: var(--fill-color);\n",
              "    }\n",
              "    80% {\n",
              "      border-color: transparent;\n",
              "      border-right-color: var(--fill-color);\n",
              "      border-bottom-color: var(--fill-color);\n",
              "    }\n",
              "    90% {\n",
              "      border-color: transparent;\n",
              "      border-bottom-color: var(--fill-color);\n",
              "    }\n",
              "  }\n",
              "</style>\n",
              "\n",
              "  <script>\n",
              "    async function quickchart(key) {\n",
              "      const quickchartButtonEl =\n",
              "        document.querySelector('#' + key + ' button');\n",
              "      quickchartButtonEl.disabled = true;  // To prevent multiple clicks.\n",
              "      quickchartButtonEl.classList.add('colab-df-spinner');\n",
              "      try {\n",
              "        const charts = await google.colab.kernel.invokeFunction(\n",
              "            'suggestCharts', [key], {});\n",
              "      } catch (error) {\n",
              "        console.error('Error during call to suggestCharts:', error);\n",
              "      }\n",
              "      quickchartButtonEl.classList.remove('colab-df-spinner');\n",
              "      quickchartButtonEl.classList.add('colab-df-quickchart-complete');\n",
              "    }\n",
              "    (() => {\n",
              "      let quickchartButtonEl =\n",
              "        document.querySelector('#df-568df2bf-0230-475d-a05e-0d29b62c241a button');\n",
              "      quickchartButtonEl.style.display =\n",
              "        google.colab.kernel.accessAllowed ? 'block' : 'none';\n",
              "    })();\n",
              "  </script>\n",
              "</div>\n",
              "    </div>\n",
              "  </div>\n"
            ]
          },
          "metadata": {},
          "execution_count": 3
        }
      ]
    },
    {
      "cell_type": "code",
      "source": [
        "# Helper functions\n",
        "\n",
        "from sklearn import metrics\n",
        "# helper function to print accuracy, precision, recall, F1\n",
        "def print_4_metrics(target_test, predicted):\n",
        "  print(\"%-12s %f\" % ('Accuracy:', metrics.accuracy_score(target_test,predicted)))\n",
        "  print(\"%-12s %f\" % ('Precision:', metrics.precision_score(target_test, predicted,labels=None, pos_label=1, average='binary', sample_weight=None)))\n",
        "  print(\"%-12s %f\" % ('Recall:', metrics.recall_score(target_test, predicted,labels=None, pos_label=1, average='binary', sample_weight=None)))\n",
        "  print(\"%-12s %f\" % ('F1 Score:', metrics.f1_score(target_test, predicted,labels=None, pos_label=1, average='binary', sample_weight=None)))\n",
        "\n",
        "import matplotlib.pyplot as plt\n",
        "from sklearn.metrics import confusion_matrix\n",
        "import itertools\n",
        "\n",
        "# Helper function that allows you to draw nicely formatted confusion matrices\n",
        "def draw_confusion_matrix(y, yhat, classes):\n",
        "    '''\n",
        "        Draws a confusion matrix for the given target and predictions\n",
        "        Adapted from scikit-learn and discussion example.\n",
        "    '''\n",
        "    plt.cla()\n",
        "    plt.clf()\n",
        "    matrix = confusion_matrix(y, yhat)\n",
        "    plt.imshow(matrix, interpolation='nearest', cmap=plt.cm.Blues)\n",
        "    plt.title(\"Confusion Matrix\")\n",
        "    plt.colorbar()\n",
        "    num_classes = len(classes)\n",
        "    plt.xticks(np.arange(num_classes), classes, rotation=90)\n",
        "    plt.yticks(np.arange(num_classes), classes)\n",
        "\n",
        "    fmt = 'd'\n",
        "    thresh = matrix.max() / 2.\n",
        "    for i, j in itertools.product(range(matrix.shape[0]), range(matrix.shape[1])):\n",
        "        plt.text(j, i, format(matrix[i, j], fmt),\n",
        "                 horizontalalignment=\"center\",\n",
        "                 color=\"white\" if matrix[i, j] > thresh else \"black\")\n",
        "\n",
        "    plt.ylabel('True label')\n",
        "    plt.xlabel('Predicted label')\n",
        "    plt.tight_layout()\n",
        "    plt.show()"
      ],
      "metadata": {
        "id": "t_4brVg5x2Ks"
      },
      "execution_count": 4,
      "outputs": []
    },
    {
      "cell_type": "code",
      "source": [
        "column_to_drop = 'Unnamed: 0'\n",
        "data = df.drop(column_to_drop, axis=1)\n",
        "pd.DataFrame(data)"
      ],
      "metadata": {
        "colab": {
          "base_uri": "https://localhost:8080/",
          "height": 423
        },
        "id": "Gsz7H8J74_Ur",
        "outputId": "31319f56-6a46-479b-f952-683863ae805e"
      },
      "execution_count": 5,
      "outputs": [
        {
          "output_type": "execute_result",
          "data": {
            "text/plain": [
              "                                               Comments  Label\n",
              "0     আমি মনে করি যখন মেয়েরা উদ্দেশ্য অনুসারে বোবা ...    1.0\n",
              "1     আমি যখন কোনও গুরুত্বপূর্ণ প্রশ্ন জিজ্ঞাসা করি ...    1.0\n",
              "2     বাহ ... আমি দেখতে দেখতে পাচ্ছি সত্যিই দোষী দোষ...    1.0\n",
              "3                      হাহ, মজার বিষয়।#আনোয়েড #গ্রুআপ    1.0\n",
              "4            থান্ডার আমাকে 830 এ জেগে উঠলে এটি ভালবাসুন    1.0\n",
              "...                                                 ...    ...\n",
              "5107  আলগা পিরিতি। কিন্তু নিজের জেলার মানুষ কষ্ট করত...    0.0\n",
              "5108         ফেইসবুক ছাড়া আপনাদের আর কোথাও দেখা মেলেনা।    0.0\n",
              "5109  শুধু ঢাকাই বসে বসে বকবক করা ছাড়া কিছু করবে না ...    0.0\n",
              "5110            সংবাদ পড়া বাদ দিয়ে মানুষের পাশে দাঁড়ান।    0.0\n",
              "5111  কে কার বাবা ও কার সন্তান হবে, সেটা জন্মের আগে ...    0.0\n",
              "\n",
              "[5112 rows x 2 columns]"
            ],
            "text/html": [
              "\n",
              "  <div id=\"df-b296f641-b7b7-4ade-a02d-6970a636696e\" class=\"colab-df-container\">\n",
              "    <div>\n",
              "<style scoped>\n",
              "    .dataframe tbody tr th:only-of-type {\n",
              "        vertical-align: middle;\n",
              "    }\n",
              "\n",
              "    .dataframe tbody tr th {\n",
              "        vertical-align: top;\n",
              "    }\n",
              "\n",
              "    .dataframe thead th {\n",
              "        text-align: right;\n",
              "    }\n",
              "</style>\n",
              "<table border=\"1\" class=\"dataframe\">\n",
              "  <thead>\n",
              "    <tr style=\"text-align: right;\">\n",
              "      <th></th>\n",
              "      <th>Comments</th>\n",
              "      <th>Label</th>\n",
              "    </tr>\n",
              "  </thead>\n",
              "  <tbody>\n",
              "    <tr>\n",
              "      <th>0</th>\n",
              "      <td>আমি মনে করি যখন মেয়েরা উদ্দেশ্য অনুসারে বোবা ...</td>\n",
              "      <td>1.0</td>\n",
              "    </tr>\n",
              "    <tr>\n",
              "      <th>1</th>\n",
              "      <td>আমি যখন কোনও গুরুত্বপূর্ণ প্রশ্ন জিজ্ঞাসা করি ...</td>\n",
              "      <td>1.0</td>\n",
              "    </tr>\n",
              "    <tr>\n",
              "      <th>2</th>\n",
              "      <td>বাহ ... আমি দেখতে দেখতে পাচ্ছি সত্যিই দোষী দোষ...</td>\n",
              "      <td>1.0</td>\n",
              "    </tr>\n",
              "    <tr>\n",
              "      <th>3</th>\n",
              "      <td>হাহ, মজার বিষয়।#আনোয়েড #গ্রুআপ</td>\n",
              "      <td>1.0</td>\n",
              "    </tr>\n",
              "    <tr>\n",
              "      <th>4</th>\n",
              "      <td>থান্ডার আমাকে 830 এ জেগে উঠলে এটি ভালবাসুন</td>\n",
              "      <td>1.0</td>\n",
              "    </tr>\n",
              "    <tr>\n",
              "      <th>...</th>\n",
              "      <td>...</td>\n",
              "      <td>...</td>\n",
              "    </tr>\n",
              "    <tr>\n",
              "      <th>5107</th>\n",
              "      <td>আলগা পিরিতি। কিন্তু নিজের জেলার মানুষ কষ্ট করত...</td>\n",
              "      <td>0.0</td>\n",
              "    </tr>\n",
              "    <tr>\n",
              "      <th>5108</th>\n",
              "      <td>ফেইসবুক ছাড়া আপনাদের আর কোথাও দেখা মেলেনা।</td>\n",
              "      <td>0.0</td>\n",
              "    </tr>\n",
              "    <tr>\n",
              "      <th>5109</th>\n",
              "      <td>শুধু ঢাকাই বসে বসে বকবক করা ছাড়া কিছু করবে না ...</td>\n",
              "      <td>0.0</td>\n",
              "    </tr>\n",
              "    <tr>\n",
              "      <th>5110</th>\n",
              "      <td>সংবাদ পড়া বাদ দিয়ে মানুষের পাশে দাঁড়ান।</td>\n",
              "      <td>0.0</td>\n",
              "    </tr>\n",
              "    <tr>\n",
              "      <th>5111</th>\n",
              "      <td>কে কার বাবা ও কার সন্তান হবে, সেটা জন্মের আগে ...</td>\n",
              "      <td>0.0</td>\n",
              "    </tr>\n",
              "  </tbody>\n",
              "</table>\n",
              "<p>5112 rows × 2 columns</p>\n",
              "</div>\n",
              "    <div class=\"colab-df-buttons\">\n",
              "\n",
              "  <div class=\"colab-df-container\">\n",
              "    <button class=\"colab-df-convert\" onclick=\"convertToInteractive('df-b296f641-b7b7-4ade-a02d-6970a636696e')\"\n",
              "            title=\"Convert this dataframe to an interactive table.\"\n",
              "            style=\"display:none;\">\n",
              "\n",
              "  <svg xmlns=\"http://www.w3.org/2000/svg\" height=\"24px\" viewBox=\"0 -960 960 960\">\n",
              "    <path d=\"M120-120v-720h720v720H120Zm60-500h600v-160H180v160Zm220 220h160v-160H400v160Zm0 220h160v-160H400v160ZM180-400h160v-160H180v160Zm440 0h160v-160H620v160ZM180-180h160v-160H180v160Zm440 0h160v-160H620v160Z\"/>\n",
              "  </svg>\n",
              "    </button>\n",
              "\n",
              "  <style>\n",
              "    .colab-df-container {\n",
              "      display:flex;\n",
              "      gap: 12px;\n",
              "    }\n",
              "\n",
              "    .colab-df-convert {\n",
              "      background-color: #E8F0FE;\n",
              "      border: none;\n",
              "      border-radius: 50%;\n",
              "      cursor: pointer;\n",
              "      display: none;\n",
              "      fill: #1967D2;\n",
              "      height: 32px;\n",
              "      padding: 0 0 0 0;\n",
              "      width: 32px;\n",
              "    }\n",
              "\n",
              "    .colab-df-convert:hover {\n",
              "      background-color: #E2EBFA;\n",
              "      box-shadow: 0px 1px 2px rgba(60, 64, 67, 0.3), 0px 1px 3px 1px rgba(60, 64, 67, 0.15);\n",
              "      fill: #174EA6;\n",
              "    }\n",
              "\n",
              "    .colab-df-buttons div {\n",
              "      margin-bottom: 4px;\n",
              "    }\n",
              "\n",
              "    [theme=dark] .colab-df-convert {\n",
              "      background-color: #3B4455;\n",
              "      fill: #D2E3FC;\n",
              "    }\n",
              "\n",
              "    [theme=dark] .colab-df-convert:hover {\n",
              "      background-color: #434B5C;\n",
              "      box-shadow: 0px 1px 3px 1px rgba(0, 0, 0, 0.15);\n",
              "      filter: drop-shadow(0px 1px 2px rgba(0, 0, 0, 0.3));\n",
              "      fill: #FFFFFF;\n",
              "    }\n",
              "  </style>\n",
              "\n",
              "    <script>\n",
              "      const buttonEl =\n",
              "        document.querySelector('#df-b296f641-b7b7-4ade-a02d-6970a636696e button.colab-df-convert');\n",
              "      buttonEl.style.display =\n",
              "        google.colab.kernel.accessAllowed ? 'block' : 'none';\n",
              "\n",
              "      async function convertToInteractive(key) {\n",
              "        const element = document.querySelector('#df-b296f641-b7b7-4ade-a02d-6970a636696e');\n",
              "        const dataTable =\n",
              "          await google.colab.kernel.invokeFunction('convertToInteractive',\n",
              "                                                    [key], {});\n",
              "        if (!dataTable) return;\n",
              "\n",
              "        const docLinkHtml = 'Like what you see? Visit the ' +\n",
              "          '<a target=\"_blank\" href=https://colab.research.google.com/notebooks/data_table.ipynb>data table notebook</a>'\n",
              "          + ' to learn more about interactive tables.';\n",
              "        element.innerHTML = '';\n",
              "        dataTable['output_type'] = 'display_data';\n",
              "        await google.colab.output.renderOutput(dataTable, element);\n",
              "        const docLink = document.createElement('div');\n",
              "        docLink.innerHTML = docLinkHtml;\n",
              "        element.appendChild(docLink);\n",
              "      }\n",
              "    </script>\n",
              "  </div>\n",
              "\n",
              "\n",
              "<div id=\"df-7bf0fa47-3dfa-40e5-b369-7097dbb0775c\">\n",
              "  <button class=\"colab-df-quickchart\" onclick=\"quickchart('df-7bf0fa47-3dfa-40e5-b369-7097dbb0775c')\"\n",
              "            title=\"Suggest charts\"\n",
              "            style=\"display:none;\">\n",
              "\n",
              "<svg xmlns=\"http://www.w3.org/2000/svg\" height=\"24px\"viewBox=\"0 0 24 24\"\n",
              "     width=\"24px\">\n",
              "    <g>\n",
              "        <path d=\"M19 3H5c-1.1 0-2 .9-2 2v14c0 1.1.9 2 2 2h14c1.1 0 2-.9 2-2V5c0-1.1-.9-2-2-2zM9 17H7v-7h2v7zm4 0h-2V7h2v10zm4 0h-2v-4h2v4z\"/>\n",
              "    </g>\n",
              "</svg>\n",
              "  </button>\n",
              "\n",
              "<style>\n",
              "  .colab-df-quickchart {\n",
              "      --bg-color: #E8F0FE;\n",
              "      --fill-color: #1967D2;\n",
              "      --hover-bg-color: #E2EBFA;\n",
              "      --hover-fill-color: #174EA6;\n",
              "      --disabled-fill-color: #AAA;\n",
              "      --disabled-bg-color: #DDD;\n",
              "  }\n",
              "\n",
              "  [theme=dark] .colab-df-quickchart {\n",
              "      --bg-color: #3B4455;\n",
              "      --fill-color: #D2E3FC;\n",
              "      --hover-bg-color: #434B5C;\n",
              "      --hover-fill-color: #FFFFFF;\n",
              "      --disabled-bg-color: #3B4455;\n",
              "      --disabled-fill-color: #666;\n",
              "  }\n",
              "\n",
              "  .colab-df-quickchart {\n",
              "    background-color: var(--bg-color);\n",
              "    border: none;\n",
              "    border-radius: 50%;\n",
              "    cursor: pointer;\n",
              "    display: none;\n",
              "    fill: var(--fill-color);\n",
              "    height: 32px;\n",
              "    padding: 0;\n",
              "    width: 32px;\n",
              "  }\n",
              "\n",
              "  .colab-df-quickchart:hover {\n",
              "    background-color: var(--hover-bg-color);\n",
              "    box-shadow: 0 1px 2px rgba(60, 64, 67, 0.3), 0 1px 3px 1px rgba(60, 64, 67, 0.15);\n",
              "    fill: var(--button-hover-fill-color);\n",
              "  }\n",
              "\n",
              "  .colab-df-quickchart-complete:disabled,\n",
              "  .colab-df-quickchart-complete:disabled:hover {\n",
              "    background-color: var(--disabled-bg-color);\n",
              "    fill: var(--disabled-fill-color);\n",
              "    box-shadow: none;\n",
              "  }\n",
              "\n",
              "  .colab-df-spinner {\n",
              "    border: 2px solid var(--fill-color);\n",
              "    border-color: transparent;\n",
              "    border-bottom-color: var(--fill-color);\n",
              "    animation:\n",
              "      spin 1s steps(1) infinite;\n",
              "  }\n",
              "\n",
              "  @keyframes spin {\n",
              "    0% {\n",
              "      border-color: transparent;\n",
              "      border-bottom-color: var(--fill-color);\n",
              "      border-left-color: var(--fill-color);\n",
              "    }\n",
              "    20% {\n",
              "      border-color: transparent;\n",
              "      border-left-color: var(--fill-color);\n",
              "      border-top-color: var(--fill-color);\n",
              "    }\n",
              "    30% {\n",
              "      border-color: transparent;\n",
              "      border-left-color: var(--fill-color);\n",
              "      border-top-color: var(--fill-color);\n",
              "      border-right-color: var(--fill-color);\n",
              "    }\n",
              "    40% {\n",
              "      border-color: transparent;\n",
              "      border-right-color: var(--fill-color);\n",
              "      border-top-color: var(--fill-color);\n",
              "    }\n",
              "    60% {\n",
              "      border-color: transparent;\n",
              "      border-right-color: var(--fill-color);\n",
              "    }\n",
              "    80% {\n",
              "      border-color: transparent;\n",
              "      border-right-color: var(--fill-color);\n",
              "      border-bottom-color: var(--fill-color);\n",
              "    }\n",
              "    90% {\n",
              "      border-color: transparent;\n",
              "      border-bottom-color: var(--fill-color);\n",
              "    }\n",
              "  }\n",
              "</style>\n",
              "\n",
              "  <script>\n",
              "    async function quickchart(key) {\n",
              "      const quickchartButtonEl =\n",
              "        document.querySelector('#' + key + ' button');\n",
              "      quickchartButtonEl.disabled = true;  // To prevent multiple clicks.\n",
              "      quickchartButtonEl.classList.add('colab-df-spinner');\n",
              "      try {\n",
              "        const charts = await google.colab.kernel.invokeFunction(\n",
              "            'suggestCharts', [key], {});\n",
              "      } catch (error) {\n",
              "        console.error('Error during call to suggestCharts:', error);\n",
              "      }\n",
              "      quickchartButtonEl.classList.remove('colab-df-spinner');\n",
              "      quickchartButtonEl.classList.add('colab-df-quickchart-complete');\n",
              "    }\n",
              "    (() => {\n",
              "      let quickchartButtonEl =\n",
              "        document.querySelector('#df-7bf0fa47-3dfa-40e5-b369-7097dbb0775c button');\n",
              "      quickchartButtonEl.style.display =\n",
              "        google.colab.kernel.accessAllowed ? 'block' : 'none';\n",
              "    })();\n",
              "  </script>\n",
              "</div>\n",
              "    </div>\n",
              "  </div>\n"
            ]
          },
          "metadata": {},
          "execution_count": 5
        }
      ]
    },
    {
      "cell_type": "code",
      "source": [
        "# splitting the dataset\n",
        "data_unlabeled = df['Comments']\n",
        "# data_unlabeled.head()\n",
        "data_labels = df['Label']\n",
        "# data_labels.head()\n",
        "len(data_unlabeled)\n",
        "\n",
        "data_unlabeled.info()"
      ],
      "metadata": {
        "colab": {
          "base_uri": "https://localhost:8080/"
        },
        "id": "nSfewtEpuLWa",
        "outputId": "f38a59d9-6e67-4bc6-c0ea-e91bd78e22c3"
      },
      "execution_count": 6,
      "outputs": [
        {
          "output_type": "stream",
          "name": "stdout",
          "text": [
            "<class 'pandas.core.series.Series'>\n",
            "RangeIndex: 5112 entries, 0 to 5111\n",
            "Series name: Comments\n",
            "Non-Null Count  Dtype \n",
            "--------------  ----- \n",
            "5112 non-null   object\n",
            "dtypes: object(1)\n",
            "memory usage: 40.1+ KB\n"
          ]
        }
      ]
    },
    {
      "cell_type": "code",
      "source": [
        "# getting the top 10 most used words\n",
        "import collections\n",
        "import plotly.express as px\n",
        "\n",
        "# Assuming df is your DataFrame with Bengali text\n",
        "words = []\n",
        "for text in df['Comments']:\n",
        "    words.extend(text.split())\n",
        "word_count = collections.Counter(words)\n",
        "top_words = dict(word_count.most_common(10))\n",
        "\n",
        "# Create a Plotly bar chart\n",
        "fig = px.bar(x=list(top_words.keys()), y=list(top_words.values()), labels={'x': 'Words', 'y': 'Frequency'})\n",
        "fig.update_layout(title_text='Top 10 most used words', title_font_size=18)\n",
        "fig.show()\n"
      ],
      "metadata": {
        "colab": {
          "base_uri": "https://localhost:8080/",
          "height": 542
        },
        "id": "4Ejxo_DhuN0D",
        "outputId": "55f07867-335d-46dd-9d83-bc7314c6e664"
      },
      "execution_count": 7,
      "outputs": [
        {
          "output_type": "display_data",
          "data": {
            "text/html": [
              "<html>\n",
              "<head><meta charset=\"utf-8\" /></head>\n",
              "<body>\n",
              "    <div>            <script src=\"https://cdnjs.cloudflare.com/ajax/libs/mathjax/2.7.5/MathJax.js?config=TeX-AMS-MML_SVG\"></script><script type=\"text/javascript\">if (window.MathJax && window.MathJax.Hub && window.MathJax.Hub.Config) {window.MathJax.Hub.Config({SVG: {font: \"STIX-Web\"}});}</script>                <script type=\"text/javascript\">window.PlotlyConfig = {MathJaxConfig: 'local'};</script>\n",
              "        <script charset=\"utf-8\" src=\"https://cdn.plot.ly/plotly-2.24.1.min.js\"></script>                <div id=\"cd2e36d8-2e8a-4c33-a492-c1f45e4b5101\" class=\"plotly-graph-div\" style=\"height:525px; width:100%;\"></div>            <script type=\"text/javascript\">                                    window.PLOTLYENV=window.PLOTLYENV || {};                                    if (document.getElementById(\"cd2e36d8-2e8a-4c33-a492-c1f45e4b5101\")) {                    Plotly.newPlot(                        \"cd2e36d8-2e8a-4c33-a492-c1f45e4b5101\",                        [{\"alignmentgroup\":\"True\",\"hovertemplate\":\"Words=%{x}\\u003cbr\\u003eFrequency=%{y}\\u003cextra\\u003e\\u003c\\u002fextra\\u003e\",\"legendgroup\":\"\",\"marker\":{\"color\":\"#636efa\",\"pattern\":{\"shape\":\"\"}},\"name\":\"\",\"offsetgroup\":\"\",\"orientation\":\"v\",\"showlegend\":false,\"textposition\":\"auto\",\"x\":[\"\\u0986\\u09ae\\u09bf\",\"\\u0986\\u09aa\\u09a8\\u09bf\",\"\\u09a8\\u09be\",\"\\u0986\\u09ae\\u09be\\u09b0\",\"\\u0986\\u09aa\\u09a8\\u09be\\u09b0\",\"\\u0995\\u09b0\\u09c7\",\"\\u099c\\u09a8\\u09cd\\u09af\",\"\\u098f\\u09ac\\u0982\",\"\\u098f\\u0995\\u099f\\u09bf\",\"\\u09af\\u09c7\"],\"xaxis\":\"x\",\"y\":[1013,708,661,531,526,513,427,406,384,380],\"yaxis\":\"y\",\"type\":\"bar\"}],                        {\"template\":{\"data\":{\"histogram2dcontour\":[{\"type\":\"histogram2dcontour\",\"colorbar\":{\"outlinewidth\":0,\"ticks\":\"\"},\"colorscale\":[[0.0,\"#0d0887\"],[0.1111111111111111,\"#46039f\"],[0.2222222222222222,\"#7201a8\"],[0.3333333333333333,\"#9c179e\"],[0.4444444444444444,\"#bd3786\"],[0.5555555555555556,\"#d8576b\"],[0.6666666666666666,\"#ed7953\"],[0.7777777777777778,\"#fb9f3a\"],[0.8888888888888888,\"#fdca26\"],[1.0,\"#f0f921\"]]}],\"choropleth\":[{\"type\":\"choropleth\",\"colorbar\":{\"outlinewidth\":0,\"ticks\":\"\"}}],\"histogram2d\":[{\"type\":\"histogram2d\",\"colorbar\":{\"outlinewidth\":0,\"ticks\":\"\"},\"colorscale\":[[0.0,\"#0d0887\"],[0.1111111111111111,\"#46039f\"],[0.2222222222222222,\"#7201a8\"],[0.3333333333333333,\"#9c179e\"],[0.4444444444444444,\"#bd3786\"],[0.5555555555555556,\"#d8576b\"],[0.6666666666666666,\"#ed7953\"],[0.7777777777777778,\"#fb9f3a\"],[0.8888888888888888,\"#fdca26\"],[1.0,\"#f0f921\"]]}],\"heatmap\":[{\"type\":\"heatmap\",\"colorbar\":{\"outlinewidth\":0,\"ticks\":\"\"},\"colorscale\":[[0.0,\"#0d0887\"],[0.1111111111111111,\"#46039f\"],[0.2222222222222222,\"#7201a8\"],[0.3333333333333333,\"#9c179e\"],[0.4444444444444444,\"#bd3786\"],[0.5555555555555556,\"#d8576b\"],[0.6666666666666666,\"#ed7953\"],[0.7777777777777778,\"#fb9f3a\"],[0.8888888888888888,\"#fdca26\"],[1.0,\"#f0f921\"]]}],\"heatmapgl\":[{\"type\":\"heatmapgl\",\"colorbar\":{\"outlinewidth\":0,\"ticks\":\"\"},\"colorscale\":[[0.0,\"#0d0887\"],[0.1111111111111111,\"#46039f\"],[0.2222222222222222,\"#7201a8\"],[0.3333333333333333,\"#9c179e\"],[0.4444444444444444,\"#bd3786\"],[0.5555555555555556,\"#d8576b\"],[0.6666666666666666,\"#ed7953\"],[0.7777777777777778,\"#fb9f3a\"],[0.8888888888888888,\"#fdca26\"],[1.0,\"#f0f921\"]]}],\"contourcarpet\":[{\"type\":\"contourcarpet\",\"colorbar\":{\"outlinewidth\":0,\"ticks\":\"\"}}],\"contour\":[{\"type\":\"contour\",\"colorbar\":{\"outlinewidth\":0,\"ticks\":\"\"},\"colorscale\":[[0.0,\"#0d0887\"],[0.1111111111111111,\"#46039f\"],[0.2222222222222222,\"#7201a8\"],[0.3333333333333333,\"#9c179e\"],[0.4444444444444444,\"#bd3786\"],[0.5555555555555556,\"#d8576b\"],[0.6666666666666666,\"#ed7953\"],[0.7777777777777778,\"#fb9f3a\"],[0.8888888888888888,\"#fdca26\"],[1.0,\"#f0f921\"]]}],\"surface\":[{\"type\":\"surface\",\"colorbar\":{\"outlinewidth\":0,\"ticks\":\"\"},\"colorscale\":[[0.0,\"#0d0887\"],[0.1111111111111111,\"#46039f\"],[0.2222222222222222,\"#7201a8\"],[0.3333333333333333,\"#9c179e\"],[0.4444444444444444,\"#bd3786\"],[0.5555555555555556,\"#d8576b\"],[0.6666666666666666,\"#ed7953\"],[0.7777777777777778,\"#fb9f3a\"],[0.8888888888888888,\"#fdca26\"],[1.0,\"#f0f921\"]]}],\"mesh3d\":[{\"type\":\"mesh3d\",\"colorbar\":{\"outlinewidth\":0,\"ticks\":\"\"}}],\"scatter\":[{\"fillpattern\":{\"fillmode\":\"overlay\",\"size\":10,\"solidity\":0.2},\"type\":\"scatter\"}],\"parcoords\":[{\"type\":\"parcoords\",\"line\":{\"colorbar\":{\"outlinewidth\":0,\"ticks\":\"\"}}}],\"scatterpolargl\":[{\"type\":\"scatterpolargl\",\"marker\":{\"colorbar\":{\"outlinewidth\":0,\"ticks\":\"\"}}}],\"bar\":[{\"error_x\":{\"color\":\"#2a3f5f\"},\"error_y\":{\"color\":\"#2a3f5f\"},\"marker\":{\"line\":{\"color\":\"#E5ECF6\",\"width\":0.5},\"pattern\":{\"fillmode\":\"overlay\",\"size\":10,\"solidity\":0.2}},\"type\":\"bar\"}],\"scattergeo\":[{\"type\":\"scattergeo\",\"marker\":{\"colorbar\":{\"outlinewidth\":0,\"ticks\":\"\"}}}],\"scatterpolar\":[{\"type\":\"scatterpolar\",\"marker\":{\"colorbar\":{\"outlinewidth\":0,\"ticks\":\"\"}}}],\"histogram\":[{\"marker\":{\"pattern\":{\"fillmode\":\"overlay\",\"size\":10,\"solidity\":0.2}},\"type\":\"histogram\"}],\"scattergl\":[{\"type\":\"scattergl\",\"marker\":{\"colorbar\":{\"outlinewidth\":0,\"ticks\":\"\"}}}],\"scatter3d\":[{\"type\":\"scatter3d\",\"line\":{\"colorbar\":{\"outlinewidth\":0,\"ticks\":\"\"}},\"marker\":{\"colorbar\":{\"outlinewidth\":0,\"ticks\":\"\"}}}],\"scattermapbox\":[{\"type\":\"scattermapbox\",\"marker\":{\"colorbar\":{\"outlinewidth\":0,\"ticks\":\"\"}}}],\"scatterternary\":[{\"type\":\"scatterternary\",\"marker\":{\"colorbar\":{\"outlinewidth\":0,\"ticks\":\"\"}}}],\"scattercarpet\":[{\"type\":\"scattercarpet\",\"marker\":{\"colorbar\":{\"outlinewidth\":0,\"ticks\":\"\"}}}],\"carpet\":[{\"aaxis\":{\"endlinecolor\":\"#2a3f5f\",\"gridcolor\":\"white\",\"linecolor\":\"white\",\"minorgridcolor\":\"white\",\"startlinecolor\":\"#2a3f5f\"},\"baxis\":{\"endlinecolor\":\"#2a3f5f\",\"gridcolor\":\"white\",\"linecolor\":\"white\",\"minorgridcolor\":\"white\",\"startlinecolor\":\"#2a3f5f\"},\"type\":\"carpet\"}],\"table\":[{\"cells\":{\"fill\":{\"color\":\"#EBF0F8\"},\"line\":{\"color\":\"white\"}},\"header\":{\"fill\":{\"color\":\"#C8D4E3\"},\"line\":{\"color\":\"white\"}},\"type\":\"table\"}],\"barpolar\":[{\"marker\":{\"line\":{\"color\":\"#E5ECF6\",\"width\":0.5},\"pattern\":{\"fillmode\":\"overlay\",\"size\":10,\"solidity\":0.2}},\"type\":\"barpolar\"}],\"pie\":[{\"automargin\":true,\"type\":\"pie\"}]},\"layout\":{\"autotypenumbers\":\"strict\",\"colorway\":[\"#636efa\",\"#EF553B\",\"#00cc96\",\"#ab63fa\",\"#FFA15A\",\"#19d3f3\",\"#FF6692\",\"#B6E880\",\"#FF97FF\",\"#FECB52\"],\"font\":{\"color\":\"#2a3f5f\"},\"hovermode\":\"closest\",\"hoverlabel\":{\"align\":\"left\"},\"paper_bgcolor\":\"white\",\"plot_bgcolor\":\"#E5ECF6\",\"polar\":{\"bgcolor\":\"#E5ECF6\",\"angularaxis\":{\"gridcolor\":\"white\",\"linecolor\":\"white\",\"ticks\":\"\"},\"radialaxis\":{\"gridcolor\":\"white\",\"linecolor\":\"white\",\"ticks\":\"\"}},\"ternary\":{\"bgcolor\":\"#E5ECF6\",\"aaxis\":{\"gridcolor\":\"white\",\"linecolor\":\"white\",\"ticks\":\"\"},\"baxis\":{\"gridcolor\":\"white\",\"linecolor\":\"white\",\"ticks\":\"\"},\"caxis\":{\"gridcolor\":\"white\",\"linecolor\":\"white\",\"ticks\":\"\"}},\"coloraxis\":{\"colorbar\":{\"outlinewidth\":0,\"ticks\":\"\"}},\"colorscale\":{\"sequential\":[[0.0,\"#0d0887\"],[0.1111111111111111,\"#46039f\"],[0.2222222222222222,\"#7201a8\"],[0.3333333333333333,\"#9c179e\"],[0.4444444444444444,\"#bd3786\"],[0.5555555555555556,\"#d8576b\"],[0.6666666666666666,\"#ed7953\"],[0.7777777777777778,\"#fb9f3a\"],[0.8888888888888888,\"#fdca26\"],[1.0,\"#f0f921\"]],\"sequentialminus\":[[0.0,\"#0d0887\"],[0.1111111111111111,\"#46039f\"],[0.2222222222222222,\"#7201a8\"],[0.3333333333333333,\"#9c179e\"],[0.4444444444444444,\"#bd3786\"],[0.5555555555555556,\"#d8576b\"],[0.6666666666666666,\"#ed7953\"],[0.7777777777777778,\"#fb9f3a\"],[0.8888888888888888,\"#fdca26\"],[1.0,\"#f0f921\"]],\"diverging\":[[0,\"#8e0152\"],[0.1,\"#c51b7d\"],[0.2,\"#de77ae\"],[0.3,\"#f1b6da\"],[0.4,\"#fde0ef\"],[0.5,\"#f7f7f7\"],[0.6,\"#e6f5d0\"],[0.7,\"#b8e186\"],[0.8,\"#7fbc41\"],[0.9,\"#4d9221\"],[1,\"#276419\"]]},\"xaxis\":{\"gridcolor\":\"white\",\"linecolor\":\"white\",\"ticks\":\"\",\"title\":{\"standoff\":15},\"zerolinecolor\":\"white\",\"automargin\":true,\"zerolinewidth\":2},\"yaxis\":{\"gridcolor\":\"white\",\"linecolor\":\"white\",\"ticks\":\"\",\"title\":{\"standoff\":15},\"zerolinecolor\":\"white\",\"automargin\":true,\"zerolinewidth\":2},\"scene\":{\"xaxis\":{\"backgroundcolor\":\"#E5ECF6\",\"gridcolor\":\"white\",\"linecolor\":\"white\",\"showbackground\":true,\"ticks\":\"\",\"zerolinecolor\":\"white\",\"gridwidth\":2},\"yaxis\":{\"backgroundcolor\":\"#E5ECF6\",\"gridcolor\":\"white\",\"linecolor\":\"white\",\"showbackground\":true,\"ticks\":\"\",\"zerolinecolor\":\"white\",\"gridwidth\":2},\"zaxis\":{\"backgroundcolor\":\"#E5ECF6\",\"gridcolor\":\"white\",\"linecolor\":\"white\",\"showbackground\":true,\"ticks\":\"\",\"zerolinecolor\":\"white\",\"gridwidth\":2}},\"shapedefaults\":{\"line\":{\"color\":\"#2a3f5f\"}},\"annotationdefaults\":{\"arrowcolor\":\"#2a3f5f\",\"arrowhead\":0,\"arrowwidth\":1},\"geo\":{\"bgcolor\":\"white\",\"landcolor\":\"#E5ECF6\",\"subunitcolor\":\"white\",\"showland\":true,\"showlakes\":true,\"lakecolor\":\"white\"},\"title\":{\"x\":0.05},\"mapbox\":{\"style\":\"light\"}}},\"xaxis\":{\"anchor\":\"y\",\"domain\":[0.0,1.0],\"title\":{\"text\":\"Words\"}},\"yaxis\":{\"anchor\":\"x\",\"domain\":[0.0,1.0],\"title\":{\"text\":\"Frequency\"}},\"legend\":{\"tracegroupgap\":0},\"margin\":{\"t\":60},\"barmode\":\"relative\",\"title\":{\"font\":{\"size\":18},\"text\":\"Top 10 most used words\"}},                        {\"responsive\": true}                    ).then(function(){\n",
              "                            \n",
              "var gd = document.getElementById('cd2e36d8-2e8a-4c33-a492-c1f45e4b5101');\n",
              "var x = new MutationObserver(function (mutations, observer) {{\n",
              "        var display = window.getComputedStyle(gd).display;\n",
              "        if (!display || display === 'none') {{\n",
              "            console.log([gd, 'removed!']);\n",
              "            Plotly.purge(gd);\n",
              "            observer.disconnect();\n",
              "        }}\n",
              "}});\n",
              "\n",
              "// Listen for the removal of the full notebook cells\n",
              "var notebookContainer = gd.closest('#notebook-container');\n",
              "if (notebookContainer) {{\n",
              "    x.observe(notebookContainer, {childList: true});\n",
              "}}\n",
              "\n",
              "// Listen for the clearing of the current output cell\n",
              "var outputEl = gd.closest('.output');\n",
              "if (outputEl) {{\n",
              "    x.observe(outputEl, {childList: true});\n",
              "}}\n",
              "\n",
              "                        })                };                            </script>        </div>\n",
              "</body>\n",
              "</html>"
            ]
          },
          "metadata": {}
        }
      ]
    },
    {
      "cell_type": "code",
      "source": [
        "# a histogram of the values in the data_labels(0,1)\n",
        "data_labels.hist()"
      ],
      "metadata": {
        "colab": {
          "base_uri": "https://localhost:8080/",
          "height": 447
        },
        "id": "Vf-P2Iynuj_B",
        "outputId": "49fa5731-c51a-4c3d-e2bb-7eb3df8e78bc"
      },
      "execution_count": 8,
      "outputs": [
        {
          "output_type": "execute_result",
          "data": {
            "text/plain": [
              "<Axes: >"
            ]
          },
          "metadata": {},
          "execution_count": 8
        },
        {
          "output_type": "display_data",
          "data": {
            "text/plain": [
              "<Figure size 640x480 with 1 Axes>"
            ],
            "image/png": "[encoded data removed]"
          },
          "metadata": {}
        }
      ]
    },
    {
      "cell_type": "code",
      "source": [
        "df.duplicated().sum()"
      ],
      "metadata": {
        "colab": {
          "base_uri": "https://localhost:8080/"
        },
        "id": "B0_-9_W2u-PS",
        "outputId": "2e1f391b-f0a3-4cfa-bfe1-0b38cd76fe39"
      },
      "execution_count": 9,
      "outputs": [
        {
          "output_type": "execute_result",
          "data": {
            "text/plain": [
              "0"
            ]
          },
          "metadata": {},
          "execution_count": 9
        }
      ]
    },
    {
      "cell_type": "code",
      "source": [
        "import nltk\n",
        "nltk.download('stopwords')"
      ],
      "metadata": {
        "colab": {
          "base_uri": "https://localhost:8080/"
        },
        "id": "v5I4JiKDvJ6I",
        "outputId": "e32c2bf3-190a-4b91-b70b-66ff48cd9e4f"
      },
      "execution_count": 10,
      "outputs": [
        {
          "output_type": "stream",
          "name": "stderr",
          "text": [
            "[nltk_data] Downloading package stopwords to /root/nltk_data...\n",
            "[nltk_data]   Unzipping corpora/stopwords.zip.\n"
          ]
        },
        {
          "output_type": "execute_result",
          "data": {
            "text/plain": [
              "True"
            ]
          },
          "metadata": {},
          "execution_count": 10
        }
      ]
    },
    {
      "cell_type": "code",
      "source": [
        "import re\n",
        "\n",
        "# Clean data: get rid of weird characters\n",
        "data_clean = data_unlabeled.replace('[^ \\u0980-\\u09FF]+', '', regex=True)\n",
        "\n",
        "# Remove underscores\n",
        "data_clean = data_clean.replace('_', '', regex=True)\n",
        "\n",
        "# Remove numbers\n",
        "data_clean = data_clean.replace('\\d+', '', regex=True)\n",
        "print(data_clean)\n"
      ],
      "metadata": {
        "colab": {
          "base_uri": "https://localhost:8080/"
        },
        "id": "ZmQ6CqKlvLtV",
        "outputId": "0ce40fac-9fd4-48c3-d115-230064a8584d"
      },
      "execution_count": 11,
      "outputs": [
        {
          "output_type": "stream",
          "name": "stdout",
          "text": [
            "0       আমি মনে করি যখন মেয়েরা উদ্দেশ্য অনুসারে বোবা ...\n",
            "1       আমি যখন কোনও গুরুত্বপূর্ণ প্রশ্ন জিজ্ঞাসা করি ...\n",
            "2       বাহ  আমি দেখতে দেখতে পাচ্ছি সত্যিই দোষী দোষী স...\n",
            "3                            হাহ মজার বিষয়আনোয়েড গ্রুআপ\n",
            "4                 থান্ডার আমাকে  এ জেগে উঠলে এটি ভালবাসুন\n",
            "                              ...                        \n",
            "5107    আলগা পিরিতি কিন্তু নিজের জেলার মানুষ কষ্ট করতে...\n",
            "5108            ফেইসবুক ছাড়া আপনাদের আর কোথাও দেখা মেলেনা\n",
            "5109    শুধু ঢাকাই বসে বসে বকবক করা ছাড়া কিছু করবে না ...\n",
            "5110               সংবাদ পড়া বাদ দিয়ে মানুষের পাশে দাঁড়ান\n",
            "5111    কে কার বাবা ও কার সন্তান হবে সেটা জন্মের আগে ক...\n",
            "Name: Comments, Length: 5112, dtype: object\n"
          ]
        }
      ]
    },
    {
      "cell_type": "code",
      "source": [
        "#removing stopwords from data_clean to normalize the data\n",
        "from nltk.corpus import stopwords\n",
        "\n",
        "stopwords_bengali = set(stopwords.words('bengali'))\n",
        "data_clean = data_clean.apply(lambda x: ' '.join([word for word in x.split() if word not in (stopwords_bengali)])) # remove stop words\n",
        "#data_clean = data_clean.apply(lambda x: \" \".join(x.lower() for x in x.split())) # to lower case\n",
        "data_clean"
      ],
      "metadata": {
        "colab": {
          "base_uri": "https://localhost:8080/"
        },
        "id": "EVpW2v-dvrY6",
        "outputId": "8484e489-5203-4566-dbe5-f0cbb82e932e"
      },
      "execution_count": 12,
      "outputs": [
        {
          "output_type": "execute_result",
          "data": {
            "text/plain": [
              "0          মেয়েরা উদ্দেশ্য অনুসারে বোবা বোবা আচরণ সুন্দর\n",
              "1       গুরুত্বপূর্ণ প্রশ্ন জিজ্ঞাসা সত্যিই পছন্দ করিআ...\n",
              "2           বাহ পাচ্ছি সত্যিই দোষী দোষী সাব্যস্তনোটপ্রেসড\n",
              "3                            হাহ মজার বিষয়আনোয়েড গ্রুআপ\n",
              "4                              থান্ডার জেগে উঠলে ভালবাসুন\n",
              "                              ...                        \n",
              "5107              আলগা পিরিতি জেলার মানুষ কষ্ট করতেছে খবর\n",
              "5108                    ফেইসবুক ছাড়া আপনাদের কোথাও মেলেনা\n",
              "5109                        ঢাকাই বকবক ছাড়া বকবক পাটির দল\n",
              "5110               সংবাদ পড়া বাদ দিয়ে মানুষের পাশে দাঁড়ান\n",
              "5111    কার বাবা কার সন্তান জন্মের রেস প্রতিযোগিতায় স...\n",
              "Name: Comments, Length: 5112, dtype: object"
            ]
          },
          "metadata": {},
          "execution_count": 12
        }
      ]
    },
    {
      "cell_type": "code",
      "source": [
        "# vectorizing the data\n",
        "from sklearn.feature_extraction.text import TfidfVectorizer\n",
        "\n",
        "n=1\n",
        "ngram_range=(n, n)\n",
        "vectorizer = TfidfVectorizer(ngram_range=ngram_range)\n",
        "X = vectorizer.fit_transform(data_clean)\n",
        "tfidf_matrix = pd.DataFrame(X.toarray(), columns = vectorizer.get_feature_names_out())\n",
        "X.shape"
      ],
      "metadata": {
        "colab": {
          "base_uri": "https://localhost:8080/"
        },
        "id": "saloBSMpwmfE",
        "outputId": "ed18cff2-c863-4f08-d24e-a981b45e756c"
      },
      "execution_count": 13,
      "outputs": [
        {
          "output_type": "execute_result",
          "data": {
            "text/plain": [
              "(5112, 2081)"
            ]
          },
          "metadata": {},
          "execution_count": 13
        }
      ]
    },
    {
      "cell_type": "code",
      "source": [
        "from sklearn import preprocessing\n",
        "X = preprocessing.normalize(X)\n",
        "print(X)"
      ],
      "metadata": {
        "colab": {
          "base_uri": "https://localhost:8080/"
        },
        "id": "WwEV4MF2w6UY",
        "outputId": "bbe85722-3164-47fc-9783-dd04492d20c3"
      },
      "execution_count": 14,
      "outputs": [
        {
          "output_type": "stream",
          "name": "stdout",
          "text": [
            "  (0, 1091)\t0.3900511959667978\n",
            "  (0, 120)\t0.6622474083348375\n",
            "  (0, 22)\t0.38260353179433365\n",
            "  (0, 346)\t0.5127406480250654\n",
            "  (1, 202)\t0.3275601884092433\n",
            "  (1, 177)\t0.2631255998759425\n",
            "  (1, 642)\t0.2052798837426302\n",
            "  (1, 1265)\t0.6677014739583725\n",
            "  (1, 1884)\t0.2851662476521115\n",
            "  (1, 1707)\t0.3301788940343831\n",
            "  (1, 1398)\t0.3810069051840163\n",
            "  (2, 1883)\t0.5699557020005355\n",
            "  (2, 924)\t0.473046292399853\n",
            "  (2, 1022)\t0.3893204168555219\n",
            "  (2, 1613)\t0.44470210710814007\n",
            "  (2, 1884)\t0.3194485122157446\n",
            "  (3, 156)\t0.41539153159213776\n",
            "  (3, 148)\t0.5177650298981268\n",
            "  (3, 1851)\t0.5797901413489553\n",
            "  (3, 1498)\t0.4724538509639733\n",
            "  (4, 1760)\t0.5608909615904698\n",
            "  (4, 343)\t0.8278896842008108\n",
            "  (5, 1391)\t0.2321110242676335\n",
            "  (5, 1593)\t0.8693484129260785\n",
            "  (5, 1600)\t0.30851078535145154\n",
            "  :\t:\n",
            "  (5104, 1568)\t0.5771253723505148\n",
            "  (5104, 1873)\t0.5771253723505148\n",
            "  (5104, 883)\t0.4337817689665744\n",
            "  (5104, 1342)\t0.3816883363305579\n",
            "  (5105, 2032)\t1.0\n",
            "  (5106, 1726)\t0.5625270131196173\n",
            "  (5106, 437)\t0.5836529816170816\n",
            "  (5106, 1935)\t0.4418553687118087\n",
            "  (5106, 177)\t0.3842868586105492\n",
            "  (5107, 694)\t0.49253759346902326\n",
            "  (5107, 670)\t0.45015928795592786\n",
            "  (5107, 192)\t0.6085750193416376\n",
            "  (5107, 653)\t0.4294179552837547\n",
            "  (5108, 307)\t0.89976936048807\n",
            "  (5108, 159)\t0.43636578455109154\n",
            "  (5109, 1365)\t0.9387448301435526\n",
            "  (5109, 1098)\t0.3446130349809081\n",
            "  (5110, 1319)\t1.0\n",
            "  (5111, 1404)\t0.5635175941656956\n",
            "  (5111, 1710)\t0.431056634381641\n",
            "  (5111, 1935)\t0.3088311835419321\n",
            "  (5111, 1850)\t0.405228402953906\n",
            "  (5111, 850)\t0.27276744316985135\n",
            "  (5111, 1666)\t0.24941988917530394\n",
            "  (5111, 1892)\t0.3169210964312029\n"
          ]
        }
      ]
    },
    {
      "cell_type": "code",
      "source": [
        "# split the full dataset\n",
        "from sklearn.model_selection import train_test_split\n",
        "X_train, X_test, y_train, y_test = train_test_split(X, data_labels, train_size = 0.8, test_size=0.2, random_state=4)"
      ],
      "metadata": {
        "id": "cOvjFenSxEuC"
      },
      "execution_count": 15,
      "outputs": []
    },
    {
      "cell_type": "code",
      "source": [
        "# fitting the dataset to a logistic regression model\n",
        "import numpy as np\n",
        "from sklearn.linear_model import LogisticRegression\n",
        "\n",
        "log_reg = LogisticRegression(penalty='l2', max_iter=1000)\n",
        "\n",
        "log_reg.fit(X_train, y_train)\n",
        "log_predicted = log_reg.predict(X_test)\n",
        "log_score = log_reg.predict_proba(X_test)[:,1]\n",
        "\n",
        "print_4_metrics(y_test, log_predicted)\n",
        "\n",
        "print(\"\\n\\nConfusion Matrix: \\n\")\n",
        "draw_confusion_matrix(y_test, log_predicted, ['Not Sarcastic', 'Sarcastic'])"
      ],
      "metadata": {
        "colab": {
          "base_uri": "https://localhost:8080/",
          "height": 626
        },
        "id": "4jxIGXh9xQ31",
        "outputId": "92fa15d5-beed-4104-c0e6-2c6cc1a4bf11"
      },
      "execution_count": 17,
      "outputs": [
        {
          "output_type": "stream",
          "name": "stdout",
          "text": [
            "Accuracy:    0.818182\n",
            "Precision:   0.814465\n",
            "Recall:      0.670984\n",
            "F1 Score:    0.735795\n",
            "\n",
            "\n",
            "Confusion Matrix: \n",
            "\n"
          ]
        },
        {
          "output_type": "display_data",
          "data": {
            "text/plain": [
              "<Figure size 640x480 with 2 Axes>"
            ],
            "image/png": "[encoded data removed]"
          },
          "metadata": {}
        }
      ]
    },
    {
      "cell_type": "code",
      "source": [
        "# testing lambda values to optimize logistic regression model\n",
        "from sklearn import model_selection\n",
        "\n",
        "lambda_list = np.linspace(start = 0, stop = 1, num = 20)\n",
        "accuracy_list = []\n",
        "for lambd in lambda_list:\n",
        "    kfold = model_selection.KFold(n_splits=10, random_state=42, shuffle=True)\n",
        "    # Train the model\n",
        "    log_model_kfold_train = LogisticRegression(C = 1/lambd)\n",
        "    log_results_kfold_train = model_selection.cross_val_score(log_model_kfold_train, X_train, y_train, cv=kfold)\n",
        "    # Calculate accuracy\n",
        "    accuracy = log_results_kfold_train.mean()\n",
        "    # Append lambda and accuracy to the lists\n",
        "    accuracy_list.append(accuracy)\n",
        "    print(\"For lambda=\",lambd, \", accuracy across folds is: %.2f%%\" % (log_results_kfold_train.mean()*100.0))\n",
        "\n",
        "# Plot the scatter plot\n",
        "plt.figure()\n",
        "plt.scatter(lambda_list, accuracy_list)\n",
        "plt.plot(lambda_list, accuracy_list)\n",
        "plt.xlabel('Lambda (Regularization Parameter)')\n",
        "plt.ylabel('Accuracy')\n",
        "plt.title('Accuracy vs. Lambda')\n",
        "plt.show()"
      ],
      "metadata": {
        "colab": {
          "base_uri": "https://localhost:8080/",
          "height": 1000
        },
        "id": "af74t1LKyQh4",
        "outputId": "b6730b7b-eaa5-461f-c4e6-cb747256dea7"
      },
      "execution_count": 18,
      "outputs": [
        {
          "output_type": "stream",
          "name": "stderr",
          "text": [
            "<ipython-input-18-cc7a67ad7153>:9: RuntimeWarning:\n",
            "\n",
            "divide by zero encountered in double_scalars\n",
            "\n",
            "/usr/local/lib/python3.10/dist-packages/sklearn/linear_model/_logistic.py:458: ConvergenceWarning:\n",
            "\n",
            "lbfgs failed to converge (status=1):\n",
            "STOP: TOTAL NO. of ITERATIONS REACHED LIMIT.\n",
            "\n",
            "Increase the number of iterations (max_iter) or scale the data as shown in:\n",
            "    https://scikit-learn.org/stable/modules/preprocessing.html\n",
            "Please also refer to the documentation for alternative solver options:\n",
            "    https://scikit-learn.org/stable/modules/linear_model.html#logistic-regression\n",
            "\n",
            "/usr/local/lib/python3.10/dist-packages/sklearn/linear_model/_logistic.py:458: ConvergenceWarning:\n",
            "\n",
            "lbfgs failed to converge (status=1):\n",
            "STOP: TOTAL NO. of ITERATIONS REACHED LIMIT.\n",
            "\n",
            "Increase the number of iterations (max_iter) or scale the data as shown in:\n",
            "    https://scikit-learn.org/stable/modules/preprocessing.html\n",
            "Please also refer to the documentation for alternative solver options:\n",
            "    https://scikit-learn.org/stable/modules/linear_model.html#logistic-regression\n",
            "\n",
            "/usr/local/lib/python3.10/dist-packages/sklearn/linear_model/_logistic.py:458: ConvergenceWarning:\n",
            "\n",
            "lbfgs failed to converge (status=1):\n",
            "STOP: TOTAL NO. of ITERATIONS REACHED LIMIT.\n",
            "\n",
            "Increase the number of iterations (max_iter) or scale the data as shown in:\n",
            "    https://scikit-learn.org/stable/modules/preprocessing.html\n",
            "Please also refer to the documentation for alternative solver options:\n",
            "    https://scikit-learn.org/stable/modules/linear_model.html#logistic-regression\n",
            "\n",
            "/usr/local/lib/python3.10/dist-packages/sklearn/linear_model/_logistic.py:458: ConvergenceWarning:\n",
            "\n",
            "lbfgs failed to converge (status=1):\n",
            "STOP: TOTAL NO. of ITERATIONS REACHED LIMIT.\n",
            "\n",
            "Increase the number of iterations (max_iter) or scale the data as shown in:\n",
            "    https://scikit-learn.org/stable/modules/preprocessing.html\n",
            "Please also refer to the documentation for alternative solver options:\n",
            "    https://scikit-learn.org/stable/modules/linear_model.html#logistic-regression\n",
            "\n",
            "/usr/local/lib/python3.10/dist-packages/sklearn/linear_model/_logistic.py:458: ConvergenceWarning:\n",
            "\n",
            "lbfgs failed to converge (status=1):\n",
            "STOP: TOTAL NO. of ITERATIONS REACHED LIMIT.\n",
            "\n",
            "Increase the number of iterations (max_iter) or scale the data as shown in:\n",
            "    https://scikit-learn.org/stable/modules/preprocessing.html\n",
            "Please also refer to the documentation for alternative solver options:\n",
            "    https://scikit-learn.org/stable/modules/linear_model.html#logistic-regression\n",
            "\n",
            "/usr/local/lib/python3.10/dist-packages/sklearn/linear_model/_logistic.py:458: ConvergenceWarning:\n",
            "\n",
            "lbfgs failed to converge (status=1):\n",
            "STOP: TOTAL NO. of ITERATIONS REACHED LIMIT.\n",
            "\n",
            "Increase the number of iterations (max_iter) or scale the data as shown in:\n",
            "    https://scikit-learn.org/stable/modules/preprocessing.html\n",
            "Please also refer to the documentation for alternative solver options:\n",
            "    https://scikit-learn.org/stable/modules/linear_model.html#logistic-regression\n",
            "\n",
            "/usr/local/lib/python3.10/dist-packages/sklearn/linear_model/_logistic.py:458: ConvergenceWarning:\n",
            "\n",
            "lbfgs failed to converge (status=1):\n",
            "STOP: TOTAL NO. of ITERATIONS REACHED LIMIT.\n",
            "\n",
            "Increase the number of iterations (max_iter) or scale the data as shown in:\n",
            "    https://scikit-learn.org/stable/modules/preprocessing.html\n",
            "Please also refer to the documentation for alternative solver options:\n",
            "    https://scikit-learn.org/stable/modules/linear_model.html#logistic-regression\n",
            "\n",
            "/usr/local/lib/python3.10/dist-packages/sklearn/linear_model/_logistic.py:458: ConvergenceWarning:\n",
            "\n",
            "lbfgs failed to converge (status=1):\n",
            "STOP: TOTAL NO. of ITERATIONS REACHED LIMIT.\n",
            "\n",
            "Increase the number of iterations (max_iter) or scale the data as shown in:\n",
            "    https://scikit-learn.org/stable/modules/preprocessing.html\n",
            "Please also refer to the documentation for alternative solver options:\n",
            "    https://scikit-learn.org/stable/modules/linear_model.html#logistic-regression\n",
            "\n",
            "/usr/local/lib/python3.10/dist-packages/sklearn/linear_model/_logistic.py:458: ConvergenceWarning:\n",
            "\n",
            "lbfgs failed to converge (status=1):\n",
            "STOP: TOTAL NO. of ITERATIONS REACHED LIMIT.\n",
            "\n",
            "Increase the number of iterations (max_iter) or scale the data as shown in:\n",
            "    https://scikit-learn.org/stable/modules/preprocessing.html\n",
            "Please also refer to the documentation for alternative solver options:\n",
            "    https://scikit-learn.org/stable/modules/linear_model.html#logistic-regression\n",
            "\n",
            "/usr/local/lib/python3.10/dist-packages/sklearn/linear_model/_logistic.py:458: ConvergenceWarning:\n",
            "\n",
            "lbfgs failed to converge (status=1):\n",
            "STOP: TOTAL NO. of ITERATIONS REACHED LIMIT.\n",
            "\n",
            "Increase the number of iterations (max_iter) or scale the data as shown in:\n",
            "    https://scikit-learn.org/stable/modules/preprocessing.html\n",
            "Please also refer to the documentation for alternative solver options:\n",
            "    https://scikit-learn.org/stable/modules/linear_model.html#logistic-regression\n",
            "\n",
            "/usr/local/lib/python3.10/dist-packages/sklearn/linear_model/_logistic.py:458: ConvergenceWarning:\n",
            "\n",
            "lbfgs failed to converge (status=1):\n",
            "STOP: TOTAL NO. of ITERATIONS REACHED LIMIT.\n",
            "\n",
            "Increase the number of iterations (max_iter) or scale the data as shown in:\n",
            "    https://scikit-learn.org/stable/modules/preprocessing.html\n",
            "Please also refer to the documentation for alternative solver options:\n",
            "    https://scikit-learn.org/stable/modules/linear_model.html#logistic-regression\n",
            "\n"
          ]
        },
        {
          "output_type": "stream",
          "name": "stdout",
          "text": [
            "For lambda= 0.0 , accuracy across folds is: 82.12%\n"
          ]
        },
        {
          "output_type": "stream",
          "name": "stderr",
          "text": [
            "/usr/local/lib/python3.10/dist-packages/sklearn/linear_model/_logistic.py:458: ConvergenceWarning:\n",
            "\n",
            "lbfgs failed to converge (status=1):\n",
            "STOP: TOTAL NO. of ITERATIONS REACHED LIMIT.\n",
            "\n",
            "Increase the number of iterations (max_iter) or scale the data as shown in:\n",
            "    https://scikit-learn.org/stable/modules/preprocessing.html\n",
            "Please also refer to the documentation for alternative solver options:\n",
            "    https://scikit-learn.org/stable/modules/linear_model.html#logistic-regression\n",
            "\n",
            "/usr/local/lib/python3.10/dist-packages/sklearn/linear_model/_logistic.py:458: ConvergenceWarning:\n",
            "\n",
            "lbfgs failed to converge (status=1):\n",
            "STOP: TOTAL NO. of ITERATIONS REACHED LIMIT.\n",
            "\n",
            "Increase the number of iterations (max_iter) or scale the data as shown in:\n",
            "    https://scikit-learn.org/stable/modules/preprocessing.html\n",
            "Please also refer to the documentation for alternative solver options:\n",
            "    https://scikit-learn.org/stable/modules/linear_model.html#logistic-regression\n",
            "\n",
            "/usr/local/lib/python3.10/dist-packages/sklearn/linear_model/_logistic.py:458: ConvergenceWarning:\n",
            "\n",
            "lbfgs failed to converge (status=1):\n",
            "STOP: TOTAL NO. of ITERATIONS REACHED LIMIT.\n",
            "\n",
            "Increase the number of iterations (max_iter) or scale the data as shown in:\n",
            "    https://scikit-learn.org/stable/modules/preprocessing.html\n",
            "Please also refer to the documentation for alternative solver options:\n",
            "    https://scikit-learn.org/stable/modules/linear_model.html#logistic-regression\n",
            "\n",
            "/usr/local/lib/python3.10/dist-packages/sklearn/linear_model/_logistic.py:458: ConvergenceWarning:\n",
            "\n",
            "lbfgs failed to converge (status=1):\n",
            "STOP: TOTAL NO. of ITERATIONS REACHED LIMIT.\n",
            "\n",
            "Increase the number of iterations (max_iter) or scale the data as shown in:\n",
            "    https://scikit-learn.org/stable/modules/preprocessing.html\n",
            "Please also refer to the documentation for alternative solver options:\n",
            "    https://scikit-learn.org/stable/modules/linear_model.html#logistic-regression\n",
            "\n",
            "/usr/local/lib/python3.10/dist-packages/sklearn/linear_model/_logistic.py:458: ConvergenceWarning:\n",
            "\n",
            "lbfgs failed to converge (status=1):\n",
            "STOP: TOTAL NO. of ITERATIONS REACHED LIMIT.\n",
            "\n",
            "Increase the number of iterations (max_iter) or scale the data as shown in:\n",
            "    https://scikit-learn.org/stable/modules/preprocessing.html\n",
            "Please also refer to the documentation for alternative solver options:\n",
            "    https://scikit-learn.org/stable/modules/linear_model.html#logistic-regression\n",
            "\n",
            "/usr/local/lib/python3.10/dist-packages/sklearn/linear_model/_logistic.py:458: ConvergenceWarning:\n",
            "\n",
            "lbfgs failed to converge (status=1):\n",
            "STOP: TOTAL NO. of ITERATIONS REACHED LIMIT.\n",
            "\n",
            "Increase the number of iterations (max_iter) or scale the data as shown in:\n",
            "    https://scikit-learn.org/stable/modules/preprocessing.html\n",
            "Please also refer to the documentation for alternative solver options:\n",
            "    https://scikit-learn.org/stable/modules/linear_model.html#logistic-regression\n",
            "\n",
            "/usr/local/lib/python3.10/dist-packages/sklearn/linear_model/_logistic.py:458: ConvergenceWarning:\n",
            "\n",
            "lbfgs failed to converge (status=1):\n",
            "STOP: TOTAL NO. of ITERATIONS REACHED LIMIT.\n",
            "\n",
            "Increase the number of iterations (max_iter) or scale the data as shown in:\n",
            "    https://scikit-learn.org/stable/modules/preprocessing.html\n",
            "Please also refer to the documentation for alternative solver options:\n",
            "    https://scikit-learn.org/stable/modules/linear_model.html#logistic-regression\n",
            "\n"
          ]
        },
        {
          "output_type": "stream",
          "name": "stdout",
          "text": [
            "For lambda= 0.05263157894736842 , accuracy across folds is: 83.42%\n"
          ]
        },
        {
          "output_type": "stream",
          "name": "stderr",
          "text": [
            "/usr/local/lib/python3.10/dist-packages/sklearn/linear_model/_logistic.py:458: ConvergenceWarning:\n",
            "\n",
            "lbfgs failed to converge (status=1):\n",
            "STOP: TOTAL NO. of ITERATIONS REACHED LIMIT.\n",
            "\n",
            "Increase the number of iterations (max_iter) or scale the data as shown in:\n",
            "    https://scikit-learn.org/stable/modules/preprocessing.html\n",
            "Please also refer to the documentation for alternative solver options:\n",
            "    https://scikit-learn.org/stable/modules/linear_model.html#logistic-regression\n",
            "\n",
            "/usr/local/lib/python3.10/dist-packages/sklearn/linear_model/_logistic.py:458: ConvergenceWarning:\n",
            "\n",
            "lbfgs failed to converge (status=1):\n",
            "STOP: TOTAL NO. of ITERATIONS REACHED LIMIT.\n",
            "\n",
            "Increase the number of iterations (max_iter) or scale the data as shown in:\n",
            "    https://scikit-learn.org/stable/modules/preprocessing.html\n",
            "Please also refer to the documentation for alternative solver options:\n",
            "    https://scikit-learn.org/stable/modules/linear_model.html#logistic-regression\n",
            "\n",
            "/usr/local/lib/python3.10/dist-packages/sklearn/linear_model/_logistic.py:458: ConvergenceWarning:\n",
            "\n",
            "lbfgs failed to converge (status=1):\n",
            "STOP: TOTAL NO. of ITERATIONS REACHED LIMIT.\n",
            "\n",
            "Increase the number of iterations (max_iter) or scale the data as shown in:\n",
            "    https://scikit-learn.org/stable/modules/preprocessing.html\n",
            "Please also refer to the documentation for alternative solver options:\n",
            "    https://scikit-learn.org/stable/modules/linear_model.html#logistic-regression\n",
            "\n",
            "/usr/local/lib/python3.10/dist-packages/sklearn/linear_model/_logistic.py:458: ConvergenceWarning:\n",
            "\n",
            "lbfgs failed to converge (status=1):\n",
            "STOP: TOTAL NO. of ITERATIONS REACHED LIMIT.\n",
            "\n",
            "Increase the number of iterations (max_iter) or scale the data as shown in:\n",
            "    https://scikit-learn.org/stable/modules/preprocessing.html\n",
            "Please also refer to the documentation for alternative solver options:\n",
            "    https://scikit-learn.org/stable/modules/linear_model.html#logistic-regression\n",
            "\n",
            "/usr/local/lib/python3.10/dist-packages/sklearn/linear_model/_logistic.py:458: ConvergenceWarning:\n",
            "\n",
            "lbfgs failed to converge (status=1):\n",
            "STOP: TOTAL NO. of ITERATIONS REACHED LIMIT.\n",
            "\n",
            "Increase the number of iterations (max_iter) or scale the data as shown in:\n",
            "    https://scikit-learn.org/stable/modules/preprocessing.html\n",
            "Please also refer to the documentation for alternative solver options:\n",
            "    https://scikit-learn.org/stable/modules/linear_model.html#logistic-regression\n",
            "\n",
            "/usr/local/lib/python3.10/dist-packages/sklearn/linear_model/_logistic.py:458: ConvergenceWarning:\n",
            "\n",
            "lbfgs failed to converge (status=1):\n",
            "STOP: TOTAL NO. of ITERATIONS REACHED LIMIT.\n",
            "\n",
            "Increase the number of iterations (max_iter) or scale the data as shown in:\n",
            "    https://scikit-learn.org/stable/modules/preprocessing.html\n",
            "Please also refer to the documentation for alternative solver options:\n",
            "    https://scikit-learn.org/stable/modules/linear_model.html#logistic-regression\n",
            "\n"
          ]
        },
        {
          "output_type": "stream",
          "name": "stdout",
          "text": [
            "For lambda= 0.10526315789473684 , accuracy across folds is: 83.22%\n"
          ]
        },
        {
          "output_type": "stream",
          "name": "stderr",
          "text": [
            "/usr/local/lib/python3.10/dist-packages/sklearn/linear_model/_logistic.py:458: ConvergenceWarning:\n",
            "\n",
            "lbfgs failed to converge (status=1):\n",
            "STOP: TOTAL NO. of ITERATIONS REACHED LIMIT.\n",
            "\n",
            "Increase the number of iterations (max_iter) or scale the data as shown in:\n",
            "    https://scikit-learn.org/stable/modules/preprocessing.html\n",
            "Please also refer to the documentation for alternative solver options:\n",
            "    https://scikit-learn.org/stable/modules/linear_model.html#logistic-regression\n",
            "\n",
            "/usr/local/lib/python3.10/dist-packages/sklearn/linear_model/_logistic.py:458: ConvergenceWarning:\n",
            "\n",
            "lbfgs failed to converge (status=1):\n",
            "STOP: TOTAL NO. of ITERATIONS REACHED LIMIT.\n",
            "\n",
            "Increase the number of iterations (max_iter) or scale the data as shown in:\n",
            "    https://scikit-learn.org/stable/modules/preprocessing.html\n",
            "Please also refer to the documentation for alternative solver options:\n",
            "    https://scikit-learn.org/stable/modules/linear_model.html#logistic-regression\n",
            "\n",
            "/usr/local/lib/python3.10/dist-packages/sklearn/linear_model/_logistic.py:458: ConvergenceWarning:\n",
            "\n",
            "lbfgs failed to converge (status=1):\n",
            "STOP: TOTAL NO. of ITERATIONS REACHED LIMIT.\n",
            "\n",
            "Increase the number of iterations (max_iter) or scale the data as shown in:\n",
            "    https://scikit-learn.org/stable/modules/preprocessing.html\n",
            "Please also refer to the documentation for alternative solver options:\n",
            "    https://scikit-learn.org/stable/modules/linear_model.html#logistic-regression\n",
            "\n"
          ]
        },
        {
          "output_type": "stream",
          "name": "stdout",
          "text": [
            "For lambda= 0.15789473684210525 , accuracy across folds is: 83.17%\n"
          ]
        },
        {
          "output_type": "stream",
          "name": "stderr",
          "text": [
            "/usr/local/lib/python3.10/dist-packages/sklearn/linear_model/_logistic.py:458: ConvergenceWarning:\n",
            "\n",
            "lbfgs failed to converge (status=1):\n",
            "STOP: TOTAL NO. of ITERATIONS REACHED LIMIT.\n",
            "\n",
            "Increase the number of iterations (max_iter) or scale the data as shown in:\n",
            "    https://scikit-learn.org/stable/modules/preprocessing.html\n",
            "Please also refer to the documentation for alternative solver options:\n",
            "    https://scikit-learn.org/stable/modules/linear_model.html#logistic-regression\n",
            "\n"
          ]
        },
        {
          "output_type": "stream",
          "name": "stdout",
          "text": [
            "For lambda= 0.21052631578947367 , accuracy across folds is: 83.08%\n",
            "For lambda= 0.2631578947368421 , accuracy across folds is: 83.15%\n",
            "For lambda= 0.3157894736842105 , accuracy across folds is: 82.78%\n",
            "For lambda= 0.3684210526315789 , accuracy across folds is: 82.76%\n",
            "For lambda= 0.42105263157894735 , accuracy across folds is: 82.76%\n",
            "For lambda= 0.47368421052631576 , accuracy across folds is: 82.68%\n",
            "For lambda= 0.5263157894736842 , accuracy across folds is: 82.59%\n",
            "For lambda= 0.5789473684210527 , accuracy across folds is: 82.51%\n",
            "For lambda= 0.631578947368421 , accuracy across folds is: 82.49%\n",
            "For lambda= 0.6842105263157894 , accuracy across folds is: 82.59%\n",
            "For lambda= 0.7368421052631579 , accuracy across folds is: 82.54%\n",
            "For lambda= 0.7894736842105263 , accuracy across folds is: 82.34%\n",
            "For lambda= 0.8421052631578947 , accuracy across folds is: 82.37%\n",
            "For lambda= 0.894736842105263 , accuracy across folds is: 82.20%\n",
            "For lambda= 0.9473684210526315 , accuracy across folds is: 81.98%\n",
            "For lambda= 1.0 , accuracy across folds is: 81.88%\n"
          ]
        },
        {
          "output_type": "display_data",
          "data": {
            "text/plain": [
              "<Figure size 640x480 with 1 Axes>"
            ],
            "image/png": "[encoded data removed]"
          },
          "metadata": {}
        }
      ]
    },
    {
      "cell_type": "code",
      "source": [
        "import matplotlib.pyplot as plt\n",
        "import numpy as np\n",
        "from sklearn.linear_model import LogisticRegression\n",
        "from sklearn import model_selection\n",
        "\n",
        "# Find the lambda with maximum accuracy\n",
        "optimal_lambda = lambda_list[np.argmax(accuracy_list)]\n",
        "max_accuracy = max(accuracy_list)\n",
        "\n",
        "print(\"Optimal Lambda:\", optimal_lambda)\n",
        "print(\"Maximum Accuracy:\", max_accuracy)\n",
        "\n",
        "# Plot the scatter plot with the optimal lambda marked\n",
        "plt.figure()\n",
        "plt.scatter(lambda_list, accuracy_list)\n",
        "plt.plot(lambda_list, accuracy_list)\n",
        "plt.scatter(optimal_lambda, max_accuracy, color='red', marker='x', label='Optimal Lambda')\n",
        "plt.xlabel('Lambda (Regularization Parameter)')\n",
        "plt.ylabel('Accuracy')\n",
        "plt.title('Accuracy vs. Lambda')\n",
        "plt.legend()\n",
        "plt.show()\n"
      ],
      "metadata": {
        "colab": {
          "base_uri": "https://localhost:8080/",
          "height": 507
        },
        "id": "47aiE61T0enD",
        "outputId": "0f69df4b-c26e-4a99-c579-e4463eb32cb7"
      },
      "execution_count": 19,
      "outputs": [
        {
          "output_type": "stream",
          "name": "stdout",
          "text": [
            "Optimal Lambda: 0.05263157894736842\n",
            "Maximum Accuracy: 0.8341914761014431\n"
          ]
        },
        {
          "output_type": "display_data",
          "data": {
            "text/plain": [
              "<Figure size 640x480 with 1 Axes>"
            ],
            "image/png": "[encoded data removed]"
          },
          "metadata": {}
        }
      ]
    },
    {
      "cell_type": "code",
      "source": [
        "# implementing the optimized logistic regression model\n",
        "lambd = 0.05263157894736842 # this is the optimal lambda\n",
        "\n",
        "log_reg = LogisticRegression(penalty='l2', C=1/lambd)\n",
        "log_reg.fit(X_train, y_train)\n",
        "log_predicted = log_reg.predict(X_test)\n",
        "log_score = log_reg.predict_proba(X_test)[:,1]\n",
        "\n",
        "print_4_metrics(y_test, log_predicted)\n",
        "\n",
        "print(\"\\n\\nConfusion Matrix: \\n\")\n",
        "draw_confusion_matrix(y_test, log_predicted, ['Not Sarcastic', 'Sarcastic'])"
      ],
      "metadata": {
        "colab": {
          "base_uri": "https://localhost:8080/",
          "height": 799
        },
        "id": "YOOsvEL90n-_",
        "outputId": "dfad8b85-4241-4964-bb5c-5882c37728f1"
      },
      "execution_count": 20,
      "outputs": [
        {
          "output_type": "stream",
          "name": "stderr",
          "text": [
            "/usr/local/lib/python3.10/dist-packages/sklearn/linear_model/_logistic.py:458: ConvergenceWarning:\n",
            "\n",
            "lbfgs failed to converge (status=1):\n",
            "STOP: TOTAL NO. of ITERATIONS REACHED LIMIT.\n",
            "\n",
            "Increase the number of iterations (max_iter) or scale the data as shown in:\n",
            "    https://scikit-learn.org/stable/modules/preprocessing.html\n",
            "Please also refer to the documentation for alternative solver options:\n",
            "    https://scikit-learn.org/stable/modules/linear_model.html#logistic-regression\n",
            "\n"
          ]
        },
        {
          "output_type": "stream",
          "name": "stdout",
          "text": [
            "Accuracy:    0.834800\n",
            "Precision:   0.798898\n",
            "Recall:      0.751295\n",
            "F1 Score:    0.774366\n",
            "\n",
            "\n",
            "Confusion Matrix: \n",
            "\n"
          ]
        },
        {
          "output_type": "display_data",
          "data": {
            "text/plain": [
              "<Figure size 640x480 with 2 Axes>"
            ],
            "image/png": "[encoded data removed]"
          },
          "metadata": {}
        }
      ]
    },
    {
      "cell_type": "code",
      "source": [
        "# printing predicted vs actual labels\n",
        "print(\"label\\tP(Y=1)\\tCorrect?\")\n",
        "for i in range(0,10):\n",
        "    print(y_test.iloc[i], \" \", log_score[i], \" \", str((y_test.iloc[i] == 1 and log_score[i] >= 0.5) or (y_test.iloc[i] == 0 and log_score[i] < 0.5)))"
      ],
      "metadata": {
        "colab": {
          "base_uri": "https://localhost:8080/"
        },
        "id": "P4qRrqsKFp4Q",
        "outputId": "1524644b-1cb6-4c4c-f6bc-c793da898527"
      },
      "execution_count": 21,
      "outputs": [
        {
          "output_type": "stream",
          "name": "stdout",
          "text": [
            "label\tP(Y=1)\tCorrect?\n",
            "0.0   0.04308425700055864   True\n",
            "1.0   0.41556536734552535   False\n",
            "1.0   0.9183687415954352   True\n",
            "1.0   0.843788892504841   True\n",
            "0.0   0.6796350256909893   False\n",
            "1.0   0.9961982654584632   True\n",
            "0.0   0.012911483926896809   True\n",
            "1.0   0.9570347321979491   True\n",
            "0.0   0.12817747543752844   True\n",
            "0.0   0.7629133106405716   False\n"
          ]
        }
      ]
    },
    {
      "cell_type": "code",
      "source": [
        "# printing accuracy rates\n",
        "accuracy_list"
      ],
      "metadata": {
        "colab": {
          "base_uri": "https://localhost:8080/"
        },
        "id": "vpYsMvIxFtWJ",
        "outputId": "9d4c24d7-fd8e-48ab-e99f-559ad1ca0197"
      },
      "execution_count": 22,
      "outputs": [
        {
          "output_type": "execute_result",
          "data": {
            "text/plain": [
              "[0.8212306438467808,\n",
              " 0.8341914761014431,\n",
              " 0.8322306917877176,\n",
              " 0.8317398964475766,\n",
              " 0.8307619013375522,\n",
              " 0.8314971954551993,\n",
              " 0.8278273167457693,\n",
              " 0.8275822187065536,\n",
              " 0.8275834172299728,\n",
              " 0.8268499208974542,\n",
              " 0.8258713265257203,\n",
              " 0.8251384294549116,\n",
              " 0.824894529939115,\n",
              " 0.825873124310849,\n",
              " 0.8253823289707082,\n",
              " 0.8234269380123689,\n",
              " 0.823672635313294,\n",
              " 0.821959945347332,\n",
              " 0.8197588570880676,\n",
              " 0.818780861978043]"
            ]
          },
          "metadata": {},
          "execution_count": 22
        }
      ]
    },
    {
      "cell_type": "code",
      "source": [
        "# SVM Model with no Regularization (C -> inf, lambda -> 0)\n",
        "import numpy as np\n",
        "from sklearn.svm import SVC\n",
        "from matplotlib import pyplot\n",
        "\n",
        "svm = SVC(probability = True, C=1e10)\n",
        "\n",
        "svm.fit(X_train, y_train)\n",
        "\n",
        "svm_predicted = svm.predict(X_test)\n",
        "svm_score = svm.predict_proba(X_test)[:,1]\n",
        "\n",
        "print_4_metrics(y_test, svm_predicted)\n",
        "\n",
        "# Plot ROC curve and report area under ROC\n",
        "# use metrics.roc_curve(your y_test, predicted probabilities for y_test)\n",
        "# feel free to use the same code as 3.1.1.\n",
        "'''your code goes below here'''\n",
        "fpr_svm_reg, tpr_svm_reg, thresholds = metrics.roc_curve(y_test,svm_score)\n",
        "print(\"SVM Model Performance Results:\\n\")\n",
        "pyplot.figure(1)\n",
        "pyplot.plot(fpr_svm_reg, tpr_svm_reg, color='orange', lw=1)\n",
        "pyplot.title(\"ROC curve with SVM Regression (rbf Kernel)\")\n",
        "pyplot.xlabel('FPR')\n",
        "pyplot.ylabel('TPR')\n",
        "# report auc\n",
        "# use metrics.auc(fpr, tpr)\n",
        "aucroc = metrics.auc(fpr_svm_reg, tpr_svm_reg)\n",
        "print('AUC of ROC: ', aucroc)"
      ],
      "metadata": {
        "colab": {
          "base_uri": "https://localhost:8080/",
          "height": 593
        },
        "id": "TQKOBBoHRWHP",
        "outputId": "ec533bec-7bce-4709-8e35-9c6d63741f8f"
      },
      "execution_count": 23,
      "outputs": [
        {
          "output_type": "stream",
          "name": "stdout",
          "text": [
            "Accuracy:    0.848485\n",
            "Precision:   0.829060\n",
            "Recall:      0.753886\n",
            "F1 Score:    0.789688\n",
            "SVM Model Performance Results:\n",
            "\n",
            "AUC of ROC:  0.904222350558398\n"
          ]
        },
        {
          "output_type": "display_data",
          "data": {
            "text/plain": [
              "<Figure size 640x480 with 1 Axes>"
            ],
            "image/png": "[encoded data removed]"
          },
          "metadata": {}
        }
      ]
    },
    {
      "cell_type": "code",
      "source": [
        "print(\"Confusion Matrix: \\n\")\n",
        "draw_confusion_matrix(y_test, svm_predicted, ['Not Sarcastic', 'Sarcastic'])"
      ],
      "metadata": {
        "colab": {
          "base_uri": "https://localhost:8080/",
          "height": 522
        },
        "id": "NZ4e0eMZRaEk",
        "outputId": "0865719c-d6e3-45b6-ff3e-cff1d02cfaa3"
      },
      "execution_count": 24,
      "outputs": [
        {
          "output_type": "stream",
          "name": "stdout",
          "text": [
            "Confusion Matrix: \n",
            "\n"
          ]
        },
        {
          "output_type": "display_data",
          "data": {
            "text/plain": [
              "<Figure size 640x480 with 2 Axes>"
            ],
            "image/png": "[encoded data removed]"
          },
          "metadata": {}
        }
      ]
    },
    {
      "cell_type": "code",
      "source": [
        "# tokenizing and padding the data for RNN\n",
        "from keras.preprocessing.text import Tokenizer\n",
        "from keras.utils import pad_sequences\n",
        "\n",
        "max_features = 2000\n",
        "\n",
        "tokenizer = Tokenizer(max_features, split = ' ')\n",
        "tokenizer.fit_on_texts(data_clean)\n",
        "X_tokenized = tokenizer.texts_to_sequences(data_clean)\n",
        "X_padded = pad_sequences(X_tokenized)\n",
        "\n",
        "X_train_rnn, X_test_rnn, y_train_rnn, y_test_rnn = train_test_split(X_padded, data_labels, test_size=0.2, random_state=4)"
      ],
      "metadata": {
        "id": "7mhqVonKSx3-"
      },
      "execution_count": 25,
      "outputs": []
    },
    {
      "cell_type": "code",
      "source": [
        "X_padded.shape"
      ],
      "metadata": {
        "colab": {
          "base_uri": "https://localhost:8080/"
        },
        "id": "mJKmQLKnS5NA",
        "outputId": "1279219a-6fc4-4f58-eeca-7fb628870d78"
      },
      "execution_count": 26,
      "outputs": [
        {
          "output_type": "execute_result",
          "data": {
            "text/plain": [
              "(5112, 70)"
            ]
          },
          "metadata": {},
          "execution_count": 26
        }
      ]
    },
    {
      "cell_type": "code",
      "source": [
        "from keras.models import Sequential\n",
        "from keras.layers import Embedding, Dense, BatchNormalization, Dropout\n",
        "from keras.optimizers import Adam\n",
        "from keras.callbacks import EarlyStopping\n",
        "from keras import layers, regularizers\n",
        "\n",
        "model = Sequential()\n",
        "\n",
        "# hyperparams\n",
        "\n",
        "embed_vec_size = 120 # hyperparam that controls size of embedding vector\n",
        "num_layers = 200 # also hyperparam\n",
        "batch_size = 32\n",
        "learning_rate=0.0001\n",
        "dropout_rate = 0.5\n",
        "reg_strength = 0.005\n",
        "patience = 10\n",
        "\n",
        "# optimizer = ['SGD', 'RMSprop', 'Adagrad', 'Adadelta', 'Adam']\n",
        "# batch_size = [16,32,64,128,256]\n",
        "\n",
        "model.add(Embedding(input_dim=max_features, output_dim=embed_vec_size))\n",
        "model.add(layers.LSTM(num_layers, dropout=dropout_rate, return_sequences=True))\n",
        "model.add(BatchNormalization())\n",
        "model.add(layers.LSTM(num_layers, dropout=dropout_rate))  # Additional LSTM layer\n",
        "model.add(BatchNormalization())\n",
        "model.add(Dropout(dropout_rate))\n",
        "model.add(Dense(units=50, activation='relu', kernel_regularizer=regularizers.l2(reg_strength)))\n",
        "# model.add(Dropout(dropout_rate))\n",
        "model.add(Dense(units=1, activation='sigmoid'))\n",
        "\n",
        "early_stopping = EarlyStopping(monitor='val_accuracy', patience=patience, restore_best_weights=True)\n",
        "\n",
        "model.compile(optimizer=Adam(learning_rate=learning_rate), loss='binary_crossentropy', metrics=['accuracy'])\n",
        "hist = model.fit(X_train_rnn, y_train, epochs=100, batch_size=batch_size, validation_data=(X_test_rnn, y_test), callbacks=[early_stopping]) # , callbacks=[early_stopping]\n",
        "score = model.evaluate(X_test_rnn, y_test) # 2-element vector containing loss, and accuracy\n",
        "\n",
        "print('Test loss: ', score[0])\n",
        "print('Test accuracy: ', score[1])"
      ],
      "metadata": {
        "colab": {
          "base_uri": "https://localhost:8080/"
        },
        "id": "nRGrySZUS8Nh",
        "outputId": "f81399b4-b817-4185-89f8-4a7f35eae91f"
      },
      "execution_count": 27,
      "outputs": [
        {
          "output_type": "stream",
          "name": "stdout",
          "text": [
            "Epoch 1/100\n",
            "128/128 [==============================] - 24s 126ms/step - loss: 1.2206 - accuracy: 0.5439 - val_loss: 1.0459 - val_accuracy: 0.6227\n",
            "Epoch 2/100\n",
            "128/128 [==============================] - 3s 26ms/step - loss: 1.0933 - accuracy: 0.6136 - val_loss: 1.0338 - val_accuracy: 0.6227\n",
            "Epoch 3/100\n",
            "128/128 [==============================] - 3s 22ms/step - loss: 0.9919 - accuracy: 0.6716 - val_loss: 1.0055 - val_accuracy: 0.6315\n",
            "Epoch 4/100\n",
            "128/128 [==============================] - 3s 25ms/step - loss: 0.8963 - accuracy: 0.7342 - val_loss: 0.8767 - val_accuracy: 0.7175\n",
            "Epoch 5/100\n",
            "128/128 [==============================] - 3s 22ms/step - loss: 0.8033 - accuracy: 0.7775 - val_loss: 0.7182 - val_accuracy: 0.8319\n",
            "Epoch 6/100\n",
            "128/128 [==============================] - 2s 17ms/step - loss: 0.7278 - accuracy: 0.8168 - val_loss: 0.6238 - val_accuracy: 0.8739\n",
            "Epoch 7/100\n",
            "128/128 [==============================] - 2s 12ms/step - loss: 0.6740 - accuracy: 0.8396 - val_loss: 0.5724 - val_accuracy: 0.8935\n",
            "Epoch 8/100\n",
            "128/128 [==============================] - 2s 16ms/step - loss: 0.6341 - accuracy: 0.8562 - val_loss: 0.5623 - val_accuracy: 0.8944\n",
            "Epoch 9/100\n",
            "128/128 [==============================] - 2s 15ms/step - loss: 0.5863 - accuracy: 0.8743 - val_loss: 0.5273 - val_accuracy: 0.9081\n",
            "Epoch 10/100\n",
            "128/128 [==============================] - 2s 16ms/step - loss: 0.5529 - accuracy: 0.8814 - val_loss: 0.4992 - val_accuracy: 0.9110\n",
            "Epoch 11/100\n",
            "128/128 [==============================] - 2s 16ms/step - loss: 0.5281 - accuracy: 0.8936 - val_loss: 0.5084 - val_accuracy: 0.9022\n",
            "Epoch 12/100\n",
            "128/128 [==============================] - 2s 19ms/step - loss: 0.4931 - accuracy: 0.9110 - val_loss: 0.4796 - val_accuracy: 0.9130\n",
            "Epoch 13/100\n",
            "128/128 [==============================] - 2s 15ms/step - loss: 0.4686 - accuracy: 0.9112 - val_loss: 0.4645 - val_accuracy: 0.9208\n",
            "Epoch 14/100\n",
            "128/128 [==============================] - 2s 13ms/step - loss: 0.4493 - accuracy: 0.9186 - val_loss: 0.4504 - val_accuracy: 0.9247\n",
            "Epoch 15/100\n",
            "128/128 [==============================] - 2s 13ms/step - loss: 0.4294 - accuracy: 0.9271 - val_loss: 0.4438 - val_accuracy: 0.9218\n",
            "Epoch 16/100\n",
            "128/128 [==============================] - 2s 14ms/step - loss: 0.4157 - accuracy: 0.9281 - val_loss: 0.4317 - val_accuracy: 0.9218\n",
            "Epoch 17/100\n",
            "128/128 [==============================] - 2s 15ms/step - loss: 0.4003 - accuracy: 0.9308 - val_loss: 0.4291 - val_accuracy: 0.9169\n",
            "Epoch 18/100\n",
            "128/128 [==============================] - 2s 19ms/step - loss: 0.3780 - accuracy: 0.9313 - val_loss: 0.4274 - val_accuracy: 0.9159\n",
            "Epoch 19/100\n",
            "128/128 [==============================] - 2s 15ms/step - loss: 0.3612 - accuracy: 0.9389 - val_loss: 0.4158 - val_accuracy: 0.9179\n",
            "Epoch 20/100\n",
            "128/128 [==============================] - 2s 17ms/step - loss: 0.3472 - accuracy: 0.9423 - val_loss: 0.4097 - val_accuracy: 0.9238\n",
            "Epoch 21/100\n",
            "128/128 [==============================] - 2s 17ms/step - loss: 0.3314 - accuracy: 0.9413 - val_loss: 0.4012 - val_accuracy: 0.9208\n",
            "Epoch 22/100\n",
            "128/128 [==============================] - 2s 15ms/step - loss: 0.3256 - accuracy: 0.9460 - val_loss: 0.4008 - val_accuracy: 0.9238\n",
            "Epoch 23/100\n",
            "128/128 [==============================] - 2s 15ms/step - loss: 0.3197 - accuracy: 0.9474 - val_loss: 0.3870 - val_accuracy: 0.9218\n",
            "Epoch 24/100\n",
            "128/128 [==============================] - 2s 18ms/step - loss: 0.3031 - accuracy: 0.9474 - val_loss: 0.3893 - val_accuracy: 0.9198\n",
            "32/32 [==============================] - 0s 7ms/step - loss: 0.4504 - accuracy: 0.9247\n",
            "Test loss:  0.45039501786231995\n",
            "Test accuracy:  0.9247311949729919\n"
          ]
        }
      ]
    },
    {
      "cell_type": "code",
      "source": [
        "plt.plot(hist.history['accuracy'])\n",
        "plt.plot(hist.history['val_accuracy'])\n",
        "plt.title('model accuracy')\n",
        "plt.ylabel('accuracy')\n",
        "plt.xlabel('epoch')\n",
        "plt.legend(['train', 'validation'], loc='upper left')\n",
        "stop_epoch = early_stopping.stopped_epoch-patience\n",
        "plt.axvline(stop_epoch, color='r')\n",
        "label = 'stopping point: \\nepoch=' + str(stop_epoch)\n",
        "plt.text(stop_epoch+0.2, .8, label, rotation=0)\n",
        "plt.show()"
      ],
      "metadata": {
        "colab": {
          "base_uri": "https://localhost:8080/",
          "height": 472
        },
        "id": "fFdEci4MTq43",
        "outputId": "f6ee9260-1377-4de9-ed3f-e8c8b7e2df22"
      },
      "execution_count": 28,
      "outputs": [
        {
          "output_type": "display_data",
          "data": {
            "text/plain": [
              "<Figure size 640x480 with 1 Axes>"
            ],
            "image/png": "[encoded data removed]"
          },
          "metadata": {}
        }
      ]
    },
    {
      "cell_type": "code",
      "source": [
        "plt.plot(hist.history['loss'])\n",
        "plt.plot(hist.history['val_loss'])\n",
        "plt.title('model loss')\n",
        "plt.ylabel('loss')\n",
        "plt.xlabel('epoch')\n",
        "plt.legend(['train', 'validation'], loc='upper left')\n",
        "plt.axvline(stop_epoch, color='r')\n",
        "plt.text(stop_epoch+0.2,.82, label,rotation=0)\n",
        "plt.show()"
      ],
      "metadata": {
        "colab": {
          "base_uri": "https://localhost:8080/",
          "height": 472
        },
        "id": "AGo8iZ1UTtA-",
        "outputId": "33bed4a3-d0ce-41f1-c390-cb7fbba76a27"
      },
      "execution_count": null,
      "outputs": [
        {
          "output_type": "display_data",
          "data": {
            "text/plain": [
              "<Figure size 640x480 with 1 Axes>"
            ],
            "image/png": "[encoded data removed]"
          },
          "metadata": {}
        }
      ]
    },
    {
      "cell_type": "code",
      "source": [
        "import torch\n",
        "import torch.nn as nn\n",
        "import torch.optim as optim\n",
        "from torch.utils.data import DataLoader, TensorDataset\n",
        "from sklearn.model_selection import train_test_split\n",
        "import scipy.sparse as sp\n",
        "\n",
        "# Assuming x_train, y_train, x_test, y_test are your training and testing data\n",
        "X_train, X_test, y_train, y_test = train_test_split(X, data_labels, train_size=0.8, test_size=0.2, random_state=4)\n",
        "\n",
        "# Split the training data further into training and validation sets\n",
        "X_train, X_val, y_train, y_val = train_test_split(X_train, y_train, test_size=0.2, random_state=42)\n",
        "\n",
        "# Convert sparse matrix to dense array for training, validation, and testing data\n",
        "x_train_dense = X_train.toarray()\n",
        "x_val_dense = X_val.toarray()\n",
        "x_test_dense = X_test.toarray()\n",
        "\n",
        "x_train_tensor = torch.tensor(x_train_dense, dtype=torch.long)\n",
        "y_train_tensor = torch.tensor(y_train, dtype=torch.long)\n",
        "x_val_tensor = torch.tensor(x_val_dense, dtype=torch.long)\n",
        "y_val_tensor = torch.tensor(y_val.values, dtype=torch.long)  # Use .values to get the underlying NumPy array\n",
        "\n",
        "# Define y_test_tensor\n",
        "y_test_tensor = torch.tensor(y_test.values, dtype=torch.long)\n",
        "\n",
        "# Create DataLoader for training, validation, and testing\n",
        "batch_size = 32\n",
        "train_dataset = TensorDataset(x_train_tensor, y_train_tensor)\n",
        "val_dataset = TensorDataset(x_val_tensor, y_val_tensor)\n",
        "\n",
        "train_loader = DataLoader(train_dataset, batch_size=batch_size, shuffle=True)\n",
        "val_loader = DataLoader(val_dataset, batch_size=batch_size, shuffle=False)\n"
      ],
      "metadata": {
        "id": "A-3wTGS6WjiY"
      },
      "execution_count": 29,
      "outputs": []
    },
    {
      "cell_type": "code",
      "source": [
        "from keras.preprocessing.text import Tokenizer\n",
        "max_features = 10000\n",
        "maxlen = 20\n",
        "batch_size = 32"
      ],
      "metadata": {
        "id": "UFwap2UQYl6y"
      },
      "execution_count": 30,
      "outputs": []
    },
    {
      "cell_type": "code",
      "source": [
        "# Assuming x_train is a CSR matrix and original_texts is a list of corresponding text samples\n",
        "original_texts = [\" \".join(map(str, row)) for row in X_train.toarray()]\n",
        "\n",
        "# Now use the Tokenizer\n",
        "tokenizer = Tokenizer(num_words=max_features)\n",
        "tokenizer.fit_on_texts(original_texts)\n",
        "\n",
        "# Create word_index dictionary\n",
        "word_index = tokenizer.word_index\n",
        "\n",
        "train_seq = tokenizer.texts_to_sequences(original_texts)\n",
        "\n",
        "print(\"Unique words: {}\".format(len(word_index)))"
      ],
      "metadata": {
        "colab": {
          "base_uri": "https://localhost:8080/"
        },
        "id": "4XI2AuUcYo3K",
        "outputId": "cf405e58-8cd7-400e-9437-edfb819d772b"
      },
      "execution_count": 31,
      "outputs": [
        {
          "output_type": "stream",
          "name": "stdout",
          "text": [
            "Unique words: 12577\n"
          ]
        }
      ]
    },
    {
      "cell_type": "code",
      "source": [
        "from keras.models import Sequential\n",
        "from keras.layers import Embedding, Dense, BatchNormalization, Dropout, LSTM, Bidirectional\n",
        "from keras.optimizers import Adam\n",
        "from keras.callbacks import EarlyStopping\n",
        "from keras import regularizers\n",
        "from sklearn.model_selection import train_test_split\n",
        "from keras.preprocessing.text import Tokenizer\n",
        "from keras.preprocessing.sequence import pad_sequences\n",
        "from keras.utils import to_categorical\n",
        "\n",
        "# Assuming you have filtered_train and data_labels for your training data\n",
        "max_features = 2000\n",
        "\n",
        "# Tokenizing and padding the data for RNN\n",
        "tokenizer = Tokenizer(num_words=max_features, split=' ')\n",
        "tokenizer.fit_on_texts(data_clean)\n",
        "X_tokenized = tokenizer.texts_to_sequences(data_clean)\n",
        "X_padded = pad_sequences(X_tokenized)\n",
        "\n",
        "# Encode labels into categorical format\n",
        "y_categorical = to_categorical(data_labels, num_classes=4)\n",
        "\n",
        "# Split the data\n",
        "X_train_rnn, X_test_rnn, y_train_rnn, y_test_rnn = train_test_split(X_padded, y_categorical, test_size=0.2, random_state=4)\n",
        "\n",
        "# hyperparameters\n",
        "embed_vec_size = 120\n",
        "num_layers = 200\n",
        "batch_size = 32\n",
        "learning_rate = 0.0001\n",
        "dropout_rate = 0.5\n",
        "reg_strength = 0.005\n",
        "patience = 10\n",
        "\n",
        "# Build the model\n",
        "model = Sequential()\n",
        "model.add(Embedding(input_dim=max_features, output_dim=embed_vec_size))\n",
        "model.add(Bidirectional(LSTM(num_layers, dropout=dropout_rate, return_sequences=True)))\n",
        "model.add(BatchNormalization())\n",
        "model.add(Bidirectional(LSTM(num_layers, dropout=dropout_rate)))\n",
        "model.add(BatchNormalization())\n",
        "model.add(Dropout(dropout_rate))\n",
        "model.add(Dense(units=50, activation='relu', kernel_regularizer=regularizers.l2(reg_strength)))\n",
        "model.add(Dense(units=4, activation='softmax'))  # Use 'softmax' for multi-class classification\n",
        "\n",
        "# Compile the model\n",
        "early_stopping = EarlyStopping(monitor='val_accuracy', patience=patience, restore_best_weights=True)\n",
        "model.compile(optimizer=Adam(learning_rate=learning_rate), loss='categorical_crossentropy', metrics=['accuracy'])\n",
        "\n",
        "# Train the model\n",
        "hist = model.fit(X_train_rnn, y_train_rnn, epochs=100, batch_size=batch_size,\n",
        "                 validation_data=(X_test_rnn, y_test_rnn), callbacks=[early_stopping])\n",
        "\n",
        "# Evaluate the model\n",
        "score = model.evaluate(X_test_rnn, y_test_rnn)\n",
        "\n",
        "print('Test loss: ', score[0])\n",
        "print('Test accuracy: ', score[1])\n",
        "\n"
      ],
      "metadata": {
        "colab": {
          "base_uri": "https://localhost:8080/"
        },
        "id": "wrvETDBBULiH",
        "outputId": "2eb1f532-c52f-45c1-c14a-0976d52c187b"
      },
      "execution_count": 35,
      "outputs": [
        {
          "output_type": "stream",
          "name": "stdout",
          "text": [
            "Epoch 1/100\n",
            "128/128 [==============================] - 23s 91ms/step - loss: 2.0677 - accuracy: 0.3705 - val_loss: 1.6456 - val_accuracy: 0.6227\n",
            "Epoch 2/100\n",
            "128/128 [==============================] - 4s 34ms/step - loss: 1.4803 - accuracy: 0.5652 - val_loss: 1.5767 - val_accuracy: 0.6227\n",
            "Epoch 3/100\n",
            "128/128 [==============================] - 4s 28ms/step - loss: 1.2794 - accuracy: 0.6454 - val_loss: 1.4095 - val_accuracy: 0.6061\n",
            "Epoch 4/100\n",
            "128/128 [==============================] - 4s 32ms/step - loss: 1.0642 - accuracy: 0.7361 - val_loss: 0.9771 - val_accuracy: 0.8250\n",
            "Epoch 5/100\n",
            "128/128 [==============================] - 3s 26ms/step - loss: 0.9128 - accuracy: 0.8048 - val_loss: 0.7669 - val_accuracy: 0.8671\n",
            "Epoch 6/100\n",
            "128/128 [==============================] - 3s 25ms/step - loss: 0.7963 - accuracy: 0.8418 - val_loss: 0.6985 - val_accuracy: 0.8837\n",
            "Epoch 7/100\n",
            "128/128 [==============================] - 4s 31ms/step - loss: 0.7332 - accuracy: 0.8667 - val_loss: 0.6338 - val_accuracy: 0.9022\n",
            "Epoch 8/100\n",
            "128/128 [==============================] - 3s 24ms/step - loss: 0.6747 - accuracy: 0.8831 - val_loss: 0.6199 - val_accuracy: 0.9052\n",
            "Epoch 9/100\n",
            "128/128 [==============================] - 3s 23ms/step - loss: 0.6403 - accuracy: 0.8956 - val_loss: 0.5957 - val_accuracy: 0.9071\n",
            "Epoch 10/100\n",
            "128/128 [==============================] - 3s 21ms/step - loss: 0.6137 - accuracy: 0.9002 - val_loss: 0.5858 - val_accuracy: 0.9169\n",
            "Epoch 11/100\n",
            "128/128 [==============================] - 3s 26ms/step - loss: 0.5725 - accuracy: 0.9107 - val_loss: 0.5933 - val_accuracy: 0.9208\n",
            "Epoch 12/100\n",
            "128/128 [==============================] - 3s 24ms/step - loss: 0.5447 - accuracy: 0.9205 - val_loss: 0.5720 - val_accuracy: 0.9179\n",
            "Epoch 13/100\n",
            "128/128 [==============================] - 3s 21ms/step - loss: 0.5217 - accuracy: 0.9305 - val_loss: 0.5622 - val_accuracy: 0.9189\n",
            "Epoch 14/100\n",
            "128/128 [==============================] - 3s 23ms/step - loss: 0.5002 - accuracy: 0.9296 - val_loss: 0.5732 - val_accuracy: 0.9101\n",
            "Epoch 15/100\n",
            "128/128 [==============================] - 3s 25ms/step - loss: 0.4861 - accuracy: 0.9325 - val_loss: 0.5649 - val_accuracy: 0.9130\n",
            "Epoch 16/100\n",
            "128/128 [==============================] - 3s 24ms/step - loss: 0.4653 - accuracy: 0.9367 - val_loss: 0.5555 - val_accuracy: 0.9189\n",
            "Epoch 17/100\n",
            "128/128 [==============================] - 3s 23ms/step - loss: 0.4379 - accuracy: 0.9403 - val_loss: 0.5638 - val_accuracy: 0.9120\n",
            "Epoch 18/100\n",
            "128/128 [==============================] - 3s 21ms/step - loss: 0.4213 - accuracy: 0.9447 - val_loss: 0.5469 - val_accuracy: 0.9189\n",
            "Epoch 19/100\n",
            "128/128 [==============================] - 3s 24ms/step - loss: 0.4157 - accuracy: 0.9416 - val_loss: 0.5268 - val_accuracy: 0.9189\n",
            "Epoch 20/100\n",
            "128/128 [==============================] - 3s 26ms/step - loss: 0.3924 - accuracy: 0.9504 - val_loss: 0.5421 - val_accuracy: 0.9159\n",
            "Epoch 21/100\n",
            "128/128 [==============================] - 3s 23ms/step - loss: 0.3748 - accuracy: 0.9494 - val_loss: 0.5416 - val_accuracy: 0.9198\n",
            "32/32 [==============================] - 0s 9ms/step - loss: 0.5933 - accuracy: 0.9208\n",
            "Test loss:  0.5932638049125671\n",
            "Test accuracy:  0.9208211302757263\n"
          ]
        }
      ]
    }
  ]
}